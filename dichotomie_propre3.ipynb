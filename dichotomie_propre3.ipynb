{
 "cells": [
  {
   "cell_type": "code",
   "execution_count": 107,
   "id": "c8a8d002-0a0b-4b9e-941f-bfc6cc7f7e95",
   "metadata": {},
   "outputs": [],
   "source": [
    "import numpy as np\n",
    "from matplotlib import pyplot as plt"
   ]
  },
  {
   "cell_type": "code",
   "execution_count": 108,
   "id": "2cceb7a9-15f1-4983-9032-a1e42b605ce7",
   "metadata": {},
   "outputs": [],
   "source": [
    "def numerov(psi_range,x_range,V,E,direction):\n",
    "    \"\"\"psi_range = array contenant les psi_i avec les valeurs aux bords déjà mises en place \n",
    "    x_range = array contenant les x\n",
    "    V = fonction jouant le role de potentiel\n",
    "    E = energie à tester\n",
    "    direction -> 1 = gauche/droite  -1=droite/gauche\"\"\"\n",
    "    \n",
    "    #création de variables utiles\n",
    "    Q = lambda x : 2*(E-V(x))\n",
    "    h = x_range[1]-x_range[0]  \n",
    "    psi_out = psi_range.copy()\n",
    "    \n",
    "    #réalisation de l'intégration de Numerov\n",
    "    if direction == 1 :\n",
    "        for i in range(2,len(psi_range)):\n",
    "            psi_out[i] = (2*(1-5/12*h**2*Q(x_range[i-1]))*psi_out[i-1]-(1+1/12*h**2*Q(x_range[i-2]))*psi_out[i-2])/(1+1/12*h**2*Q(x_range[i]))\n",
    "    if direction == -1 :\n",
    "        for i in range(len(psi_range)-3,-1,-1):\n",
    "            psi_out[i] = (2*(1-5/12*h**2*Q(x_range[i+1]))*psi_out[i+1]-(1+1/12*h**2*Q(x_range[i+2]))*psi_out[i+2])/(1+1/12*h**2*Q(x_range[i]))\n",
    "    \n",
    "    return psi_out\n",
    "\n",
    "V_0 = 5\n",
    "x0=1\n",
    "a = 2\n",
    "a1=1\n",
    "a2=0.9\n",
    "b=1\n",
    "def V1(x):\n",
    "        return -V_0/2*(1-np.sign(np.abs(x)-a))\n",
    "def V2(x):\n",
    "        return V_0*(x/a)**2\n",
    "def V3(x):\n",
    "        return 4*V_0*( ((a1/2**(1/6))/x)**12-((a1/2**(1/6))/x)**6 )\n",
    "def V4(x):\n",
    "        return V_0*((1-np.exp(-a*(x-x0)))**2)\n",
    "def V5 (x):\n",
    "    #quadratic well\n",
    "    return V_0/2*((x/b)**2-1)*(1-np.sign(np.abs(x)-b))\n",
    "def Box(x):\n",
    "    return 100*(V_0-V_0/2*(1-np.sign(np.abs(x)-a)))\n",
    "def integrale(F,X):\n",
    "    sum=0\n",
    "    for i in range (0,len(F)-1):\n",
    "        sum+=(X[i+1]-X[i])*F[i]\n",
    "    return sum"
   ]
  },
  {
   "cell_type": "code",
   "execution_count": 128,
   "id": "647c6397-7132-4d59-913a-60c56e1480f6",
   "metadata": {},
   "outputs": [],
   "source": [
    "def recherche_lin(V,E_min,E_max,dE,sens):\n",
    "    \"\"\"\n",
    "    CONTIENT LES BORNES ET LE PAS DES ENERGIES A TESTER. TRACE LA DIVERGENCE DE LA FONCTION D'ONDE EN x_M EN FONCTION DE L'ENERGIE. SORT LES MINIMAS LOCAUX DU ln DE CETTE DIVERGENCE.\n",
    "    CALCULE LA FONCTION D'ONDE DE GAUCHE A DROITE \n",
    "    \"\"\"\n",
    "    N_E=int((E_max-E_min)/dE+1)\n",
    "    E_range=np.linspace(E_min,E_max,N_E)\n",
    "    I=[]\n",
    "    Y_last=[]\n",
    "    Z_last=[]\n",
    "    for E in E_range:\n",
    "        psi_range = np.zeros(len(x_range))\n",
    "        if sens==1:\n",
    "            psi_range[0] = 0\n",
    "            psi_range[1] = eps\n",
    "            out=numerov(psi_range,x_range,V,E,1)\n",
    "            Y_last.append(abs(out[-1]))\n",
    "            Z_last.append(np.log(abs(out[-1])))\n",
    "\n",
    "        if sens ==-1:   \n",
    "            psi_range[-1] = 0\n",
    "            psi_range[-2] = eps\n",
    "            out=numerov(psi_range,x_range,V,E,-1)\n",
    "            Y_last+=[abs(out[0])]\n",
    "            Z_last+=[np.log(abs(out[0]))]\n",
    "            \n",
    "        #if Y_last[-1]<5*10**-6:\n",
    "            #plt.plot(x_range,out)\n",
    "            #print(E)\n",
    "    #plt.plot(E_range,np.abs(Y_last))\n",
    "    #plt.plot(E_range,Z_last)\n",
    "    E_value=[]\n",
    "    for i in range (1,N_E-1):\n",
    "        if Z_last[i]<Z_last[i+1] and Z_last[i]<Z_last[i-1]:\n",
    "            E_value.append(E_range[i])\n",
    "    return E_value"
   ]
  },
  {
   "cell_type": "code",
   "execution_count": 115,
   "id": "07581f04-d258-429c-ae40-9845ce68ed66",
   "metadata": {},
   "outputs": [],
   "source": [
    "def dichotomie (V,x_range,Nb_passage,It_passage,zoom,E_ini,delta_E,eps):\n",
    "    \"\"\"\n",
    "    V=potentiel\n",
    "    Nb_passage=nombre de passage effectuées\n",
    "    It_passage=nombre d'iterations effectuées à chaque passage (doit être > 4)\n",
    "    zoom=valeur de l'augmentation de precision entre chaque passage\n",
    "    E_ini=valeur de depart de recherche de l'energie\n",
    "    delta_E= étendue de recherche de l'énergie autour de E_ini\n",
    "    eps= valeurs de la dérivée première de psi au premier point (la valeur de psi est arbitrairement prise à 0)\n",
    "    \"\"\"\n",
    "    psi_zero=np.zeros(len(x_range))\n",
    "    for passage in range(0,Nb_passage): \n",
    "        # boucle de recherche de l'energie optimale par passage dans la gamme d'energie donnée par E_range:\n",
    "        E_range=np.linspace(E_ini-delta_E/2,E_ini+delta_E/2,It_passage) #créé la liste des valeurs de E à être testés\n",
    "        Z_last=[] # contient la dernière valeur de chaque fonction d'onde (en log)\n",
    "\n",
    "        for iteration in range (0,It_passage):\n",
    "            # boucle de calcul de la fonction d'onde correspondant chaque energie dans E_range:\n",
    "            E=E_range[iteration]\n",
    "            #remise à 0 de la fonction d'onde:\n",
    "            psi_range = psi_zero\n",
    "            psi_range[0] = 0\n",
    "            psi_range[1] = eps\n",
    "            out=numerov(psi_range,x_range,V,E,1)\n",
    "            Z_last.append(np.log(abs(out[-1])))\n",
    "            #print(out)\n",
    "            #print(E,\"  \",E_ini,\"  \",Z_last[-2],\"  \")\n",
    "        #print( \"\\n \",Z_last[np.argmin(Z_last) ])\n",
    "            \n",
    "        # selection de l'energie optimale:\n",
    "        E_ini=E_range[np.argmin(Z_last)]\n",
    "        delta_E/=zoom\n",
    "    return E_ini\n",
    "            \n"
   ]
  },
  {
   "cell_type": "code",
   "execution_count": 116,
   "id": "c96049bb-20d2-47f9-ae42-66c1ad11f821",
   "metadata": {
    "tags": []
   },
   "outputs": [],
   "source": [
    "def dichotomie_affiche (V,x_range,Nb_passage,It_passage,zoom,E_ini,delta_E,eps):\n",
    "    \"\"\"\n",
    "    V=potentiel\n",
    "    Nb_passage=nombre de passage effectuées\n",
    "    It_passage=nombre d'iterations effectuées à chaque passage (doit être > 4)\n",
    "    zoom=valeur de l'augmentation de precision entre chaque passage\n",
    "    E_ini=valeur de depart de recherche de l'energie\n",
    "    delta_E= étendue de recherche de l'énergie autour de E_ini\n",
    "    eps= valeurs de la dérivée première de psi au premier point (la valeur de psi est arbitrairement prise à 0)\n",
    "    \"\"\"\n",
    "    affiche_sol=input(\"Afficher les solutions intermédiaires ? (y/n)\")\n",
    "    affiche_graph=input(\"Afficher les graphiques intermédiaires ? (y/n)\")\n",
    "    psi_zero=np.zeros(len(x_range))\n",
    "    if affiche_graph==\"y\":\n",
    "        plt.figure(figsize=(30, 10))\n",
    "    for passage in range(0,Nb_passage): \n",
    "        # boucle de recherche de l'energie optimale par passage dans la gamme d'energie donnée par E_range:\n",
    "        E_range=np.linspace(E_ini-delta_E/2,E_ini+delta_E/2,It_passage) #créé la liste des valeurs de E à être testés\n",
    "        Z_last=[] # contient la dernière valeur de chaque fonction d'onde (en log)\n",
    "\n",
    "        for iteration in range (0,It_passage):\n",
    "            # boucle de calcul de la fonction d'onde correspondant chaque energie dans E_range:\n",
    "            E=E_range[iteration]\n",
    "            #remise à 0 de la fonction d'onde:\n",
    "            psi_range = psi_zero\n",
    "            psi_range[0] = 0\n",
    "            psi_range[1] = eps\n",
    "            out=numerov(psi_range,x_range,V,E,1)\n",
    "            Z_last.append(np.log(abs(out[-1])))\n",
    "            #print(out)\n",
    "            #print(E,\"  \",E_ini,\"  \",Z_last[-2],\"  \")\n",
    "        #print( \"\\n \",Z_last[np.argmin(Z_last) ])\n",
    "            \n",
    "        # selection de l'energie optimale:\n",
    "        E_ini=E_range[np.argmin(Z_last)]\n",
    "        delta_E/=zoom\n",
    "        if affiche_sol==\"y\":\n",
    "            print(\"Passage\",passage+1,\": \",E_ini,\" Precision: \",delta_E)\n",
    "        if affiche_graph==\"y\":\n",
    "            place=10-Nb_passage+passage\n",
    "            if place>0:\n",
    "               #remise à 0 de la fonction d'onde:\n",
    "                psi_range = psi_zero\n",
    "                psi_range[0] = 0\n",
    "                psi_range[1] = eps\n",
    "                out=numerov(psi_range,x_range,V,E_ini,1)\n",
    "                string=str(2)+str(5)+str(place)\n",
    "                plt.subplot(int(string))\n",
    "                plt.plot(x_range,out)\n",
    "                plt.title(\"precision: \"+str(delta_E))\n",
    "    return E_ini\n",
    "            \n"
   ]
  },
  {
   "cell_type": "code",
   "execution_count": 126,
   "id": "1d46612c-9427-4940-adeb-f8bb7758e923",
   "metadata": {},
   "outputs": [],
   "source": [
    "def recherche(V,E_min,E_max,dE,sens,x_range,Nb_passage,It_passage,zoom,delta_E,eps):\n",
    "    \"\"\"\n",
    "    V=potentiel\n",
    "    E_min=plus petite valeur de l'energie à être testée\n",
    "    E_max=plus grande valeur de l'energie à être testée\n",
    "    dE=pas des energies à tester lors de  \n",
    "    sens= sens de calcul de psi par numerov\n",
    "    x_range= valeurs des x pour lesquels psi va être calculée\n",
    "    Nb_passage=nombre de passage effectuées\n",
    "    It_passage=nombre d'iterations effectuées à chaque passage (doit être > 4)\n",
    "    zoom=valeur de l'augmentation de precision entre chaque passage\n",
    "    delta_E= étendue de recherche de l'énergie autour de E_ini\n",
    "    \"\"\"\n",
    "    E_lin_list=recherche_lin(V,E_min,E_max,dE,sens)\n",
    "    E_dich_list=[]\n",
    "    psi_zero=np.zeros(len(x_range))\n",
    "    for i in range(0,len(E_lin_list)):\n",
    "        E_ini=E_lin_list[i] #valeur de depart de recherche de l'energie\n",
    "        delta_E=0.1 #étendue de recherche de l'énergie autour de E_ini\n",
    "        x_range = np.linspace(x_m,x_M,int((x_M-x_m)/dx))\n",
    "        E_dich_list.append(dichotomie(V,x_range,Nb_passage,It_passage,zoom,E_ini,delta_E,eps))\n",
    "    for i in range (0,len(E_dich_list)):\n",
    "        #remise à 0 de la fonction d'onde:\n",
    "        psi_range = psi_zero\n",
    "        psi_range[0] = 0\n",
    "        psi_range[1] = eps\n",
    "        out=numerov(psi_range,x_range,V,E_dich_list[i],1)      \n",
    "        #plt.plot(x_range,out)\n",
    "    \n",
    "    return E_dich_list"
   ]
  },
  {
   "cell_type": "code",
   "execution_count": 8,
   "id": "746e7402-35e0-4a94-af17-9a782d4872fe",
   "metadata": {
    "tags": []
   },
   "outputs": [
    {
     "data": {
      "text/plain": [
       "(-5.0, 2.0)"
      ]
     },
     "execution_count": 8,
     "metadata": {},
     "output_type": "execute_result"
    },
    {
     "data": {
      "image/png": "[encoded data removed]",
      "text/plain": [
       "<Figure size 432x288 with 1 Axes>"
      ]
     },
     "metadata": {
      "needs_background": "light"
     },
     "output_type": "display_data"
    }
   ],
   "source": [
    "#CONTIENT LA PLAGE DES VALEURS DE X UTILES,LA VALEUR DE LA PREMIERE DERIVEE EN x_m, ET LE POTENTIEL. TRACE LE POTENTIEL.\n",
    "V=V1 #potentiel utilisé\n",
    "x_m=-6\n",
    "x_M=6\n",
    "dx=10**(-2)\n",
    "eps=dx*10**(-5)\n",
    "x_range = np.linspace(x_m,x_M,int((x_M-x_m)/dx))\n",
    "plt.plot(x_range,V(x_range))\n",
    "#plt.yscale('log')\n",
    "plt.ylim(-5,2)"
   ]
  },
  {
   "cell_type": "code",
   "execution_count": 129,
   "id": "fb995f41-b491-477d-be37-9a9814665957",
   "metadata": {},
   "outputs": [
    {
     "data": {
      "text/plain": [
       "[-4.770866546361109, -4.08976114245, -2.979794364705556, -1.5040255783277778]"
      ]
     },
     "execution_count": 129,
     "metadata": {},
     "output_type": "execute_result"
    },
    {
     "data": {
      "image/png": "[encoded data removed]",
      "text/plain": [
       "<Figure size 432x288 with 1 Axes>"
      ]
     },
     "metadata": {
      "needs_background": "light"
     },
     "output_type": "display_data"
    }
   ],
   "source": [
    "V=V1\n",
    "\n",
    "E_min=-5\n",
    "E_max=0\n",
    "dE=0.01\n",
    "sens=1\n",
    "\n",
    "Nb_passage=10 #nombre de passage effectuées\n",
    "It_passage=10 #nombre d'iterations effectuées à chaque passage (doit être > 4)\n",
    "zoom=10 # valeur de l'augmentation de precision entre chaque passage\n",
    "E_ini=-4.77 #valeur de depart de recherche de l'energie\n",
    "delta_E=0.1 #étendue de recherche de l'énergie autour de E_ini\n",
    "x_range = np.linspace(x_m,x_M,int((x_M-x_m)/dx))\n",
    "recherche(V,E_min,E_max,dE,sens,x_range,Nb_passage,It_passage,zoom,delta_E,eps)"
   ]
  },
  {
   "cell_type": "code",
   "execution_count": null,
   "id": "652e3920-7037-4387-8f47-c7f091b9b95c",
   "metadata": {},
   "outputs": [],
   "source": []
  }
 ],
 "metadata": {
  "kernelspec": {
   "display_name": "Python 3 (ipykernel)",
   "language": "python",
   "name": "python3"
  },
  "language_info": {
   "codemirror_mode": {
    "name": "ipython",
    "version": 3
   },
   "file_extension": ".py",
   "mimetype": "text/x-python",
   "name": "python",
   "nbconvert_exporter": "python",
   "pygments_lexer": "ipython3",
   "version": "3.9.7"
  }
 },
 "nbformat": 4,
 "nbformat_minor": 5
}
