{
 "cells": [
  {
   "cell_type": "code",
   "execution_count": 1,
   "id": "c8a8d002-0a0b-4b9e-941f-bfc6cc7f7e95",
   "metadata": {},
   "outputs": [],
   "source": [
    "import numpy as np\n",
    "from matplotlib import pyplot as plt\n",
    "import types\n",
    "import scipy.integrate as sp\n"
   ]
  },
  {
   "cell_type": "code",
   "execution_count": 2,
   "id": "2cceb7a9-15f1-4983-9032-a1e42b605ce7",
   "metadata": {},
   "outputs": [],
   "source": [
    "#CI :\n",
    "x_m , x_M = -10 , 10  #limites du domaine d'intégration\n",
    "psi_x_m , psi_x_M = 0 , 0  #valeurs de la fonction d'onde aux limites\n",
    "\n",
    "#potentiel\n",
    "V_0 = 5\n",
    "a = 2\n",
    "def V (x):\n",
    "    #square well\n",
    "    return -V_0/2*(1-np.sign(np.abs(x)-a))\n",
    "\n",
    "\n",
    "b = 2\n",
    "def V_2 (x):\n",
    "    #quadratic well\n",
    "    return V_0/2*((x/b)**2-1)*(1-np.sign(np.abs(x)-b))\n",
    "\n",
    "def Lennard_Jones(x):\n",
    "    return - 4*V_0*( (1/x)**6 - (1/x)**12)  # careful, V_0 needs to be positive.\n",
    "\n",
    "def Lennard_Jones_lambda(a_1,a_2):\n",
    "    return lambda x : - 4*V_0*( (a_1/x)**6 - (a_2/x)**12)\n",
    "\n",
    "def Lennard_Jones_bis(x):\n",
    "    return 102*(4343/x**12 - 650/x**6) +33/x**2\n",
    "\n",
    "#params d'intégration\n",
    "dx = 0.01\n",
    "eps = 10**(-7)\n",
    "\n"
   ]
  },
  {
   "cell_type": "markdown",
   "id": "97818ac9-feec-46c5-a543-7ff3a5cd39c2",
   "metadata": {
    "tags": []
   },
   "source": [
    "# Numerov left and right"
   ]
  },
  {
   "cell_type": "code",
   "execution_count": 49,
   "id": "51712b3f-057c-4cf7-b1f4-e6304c3f5748",
   "metadata": {
    "tags": []
   },
   "outputs": [],
   "source": [
    "def numerov(psi_range,x_range,V,E,direction,i_start=2):\n",
    "    \"\"\"psi_range = array contenant les psi_i avec les valeurs aux bords déjà mises en place \n",
    "    x_range = array contenant les x\n",
    "    V = fonction jouant le role de potentiel\n",
    "    E = energie à tester\n",
    "    direction -> 1 = gauche/droite  -1=droite/gauche\"\"\"\n",
    "    \n",
    "    if (len(psi_range) != len (x_range)):\n",
    "        raise Exception(\"psi_range and x_range must be of the same length, but they are not\")\n",
    "    \n",
    "    #création de variables utiles\n",
    "    Q = lambda x : 2*(E-V(x))\n",
    "    h = x_range[1]-x_range[0]  \n",
    "    psi_out = psi_range.copy()\n",
    "    \n",
    "    #paramètre\n",
    "    P_window = 4\n",
    "    \n",
    "    #réalisation de l'intégration de Numerov\n",
    "    if direction == 1 :\n",
    "        for i in range(i_start,len(psi_range)):\n",
    "            psi_out[i] = (2*(1-5/12*h**2*Q(x_range[i-1]))*psi_out[i-1]-(1+1/12*h**2*Q(x_range[i-2]))*psi_out[i-2])/(1+1/12*h**2*Q(x_range[i]))\n",
    "            \n",
    "            if abs(psi_out[i]) > 10**P_window:\n",
    "                for k in range(i+1):\n",
    "                    psi_out[k] = psi_out[k]/10\n",
    "            \n",
    "            if abs(psi_out[i]) < 10**(-P_window):\n",
    "                for k in range(i+1):\n",
    "                    psi_out[k] = psi_out[k]*10\n",
    "            \n",
    "    if direction == -1 :\n",
    "        for i in range(len(psi_range)-1-i_start,-1,-1):\n",
    "            psi_out[i] = (2*(1-5/12*h**2*Q(x_range[i+1]))*psi_out[i+1]-(1+1/12*h**2*Q(x_range[i+2]))*psi_out[i+2])/(1+1/12*h**2*Q(x_range[i]))\n",
    "            \n",
    "            if abs(psi_out[i]) > 10**P_window:\n",
    "                for k in range(i,len(psi_range)):\n",
    "                    psi_out[k] = psi_out[k]/10\n",
    "            \n",
    "            if abs(psi_out[i]) < 10**(-P_window):\n",
    "                for k in range(i,len(psi_range)):\n",
    "                    psi_out[k] = psi_out[k]*10\n",
    "                    \n",
    "    return psi_out"
   ]
  },
  {
   "cell_type": "markdown",
   "id": "66801130-e51b-49f8-b0f4-72d20b33a79c",
   "metadata": {
    "tags": []
   },
   "source": [
    "# Mid point logaritmic derivatives method"
   ]
  },
  {
   "cell_type": "code",
   "execution_count": 59,
   "id": "c08bd8b3-8e34-4002-a428-d25cedf06397",
   "metadata": {
    "tags": []
   },
   "outputs": [],
   "source": [
    "def Do_mid_point (psi_range,x_range,V,E,N_x_c):\n",
    "    \"\"\"psi_range = array contenant les psi_i avec les valeurs aux bords déjà mises en place \n",
    "    x_range = array contenant les x\n",
    "    V = fonction jouant le role de potentiel\n",
    "    E = energie à tester\n",
    "    N_x_c = indice du mid-point\"\"\"\n",
    "    \n",
    "    h = x_range[1]-x_range[0]\n",
    "    \n",
    "    #découpage des ranges au mid-point\n",
    "    x_left = x_range.copy()[0:N_x_c+1]\n",
    "    x_right = x_range.copy()[N_x_c:] \n",
    "    \n",
    "    psi_left = psi_range.copy()[0:N_x_c+1]\n",
    "    psi_right = psi_range.copy()[N_x_c:]\n",
    "    \n",
    "    \n",
    "    #réalisation des intégrations de numerov\n",
    "    psi_left = numerov(psi_left,x_left,V,E,1)\n",
    "    psi_right = numerov(psi_right,x_right,V,E,-1)\n",
    "    \n",
    "    #-------------------------------------------------------------------------------------------\n",
    "    #-------------------------------------------------------------------------------------------\n",
    "    ####gestion du cas où x_c est proche d'un noeud :\n",
    "    seuil = 10**-2\n",
    "    test_1 = -seuil < (psi_left[-1]*h)/(psi_left[-1]-psi_left[-2]) < seuil\n",
    "    test_2 = -seuil < (psi_right[0]*h)/(psi_right[1]-psi_right[0]) < seuil\n",
    "    \n",
    "    #flag pour la convergence de la procédure :\n",
    "    converged = False\n",
    "    \n",
    "    #sauvegarde des psi\n",
    "    old_psi_left = psi_left \n",
    "    old_psi_right = psi_right\n",
    "    \n",
    "    #décalage à droite\n",
    "    for i in range(int(len(x_range)/25)):\n",
    "        if test_1 or test_2 :\n",
    "            x_left = np.concatenate((x_left,[x_range[len(x_left)]]))\n",
    "            x_right = x_right[1:]\n",
    "            psi_left = numerov(np.concatenate((psi_left,np.zeros(1))),x_left,V,E,1,i_start=len(psi_left))\n",
    "            psi_right = psi_right[1:]\n",
    "        else :    \n",
    "            converged = True\n",
    "            break\n",
    "        test_1 = -seuil < (psi_left[-1]*h)/(psi_left[-1]-psi_left[-2]) < seuil\n",
    "        test_2 = -seuil < (psi_right[0]*h)/(psi_right[1]-psi_right[0]) < seuil\n",
    "        \n",
    "    #si pas convergé, décalage à gauche\n",
    "    if not converged :\n",
    "        #récupération des anciens psi\n",
    "        psi_left = old_psi_left\n",
    "        psi_right = old_psi_right\n",
    "        #récupération des anciens x_range\n",
    "        x_left = x_range.copy()[0:N_x_c+1]\n",
    "        x_right = x_range.copy()[N_x_c:] \n",
    "        \n",
    "        #décalage à gauche\n",
    "        for i in range(int(len(x_range)/25)):\n",
    "            if test_1 or test_2 :\n",
    "                x_left = x_left[0:-1]\n",
    "                x_right = np.concatenate(([x_range[-len(x_right)-1]],x_right))\n",
    "                psi_left = psi_left[0:-1]\n",
    "                psi_right = numerov(np.concatenate((np.zeros(1),psi_right)),x_right,V,E,-1)\n",
    "            else :    \n",
    "                converged = True\n",
    "                break\n",
    "            test_1 = -seuil < (psi_left[-1]*h)/(psi_left[-1]-psi_left[-2]) < seuil\n",
    "            test_2 = -seuil < (psi_right[0]*h)/(psi_right[1]-psi_right[0]) < seuil\n",
    "    \n",
    "    #si pas convergé, affichage message d'erreur\n",
    "    if not converged :\n",
    "        print(\"In Do_mid_point : matching error cannot be evaluated for E= \",E,\"and N_x_c = \",N_x_c)\n",
    "        return np.NaN , np.NaN , np.NaN\n",
    "    #-------------------------------------------------------------------------------------------\n",
    "    #-------------------------------------------------------------------------------------------\n",
    "    \n",
    "            \n",
    "    #raccordement des deux morceaux :\n",
    "    psi_out = np.concatenate((psi_left[0:-1],psi_right*((psi_left[-1])/(psi_right[0]))))\n",
    "    \n",
    "    #évaluation de l'erreur du raccord en x_c\n",
    "    log_error = 2*(psi_left[-1]-psi_left[-2])/((psi_left[-1])*h) - 2*(psi_right[1]-psi_right[0])/((psi_right[0])*h)\n",
    "\n",
    "    N = 0\n",
    "    \n",
    "    for i in range(1,len(psi_out)) :\n",
    "        if (psi_out[i]*psi_out[i-1] < 0):\n",
    "            N += 1\n",
    "    \n",
    "    return log_error, N , psi_out"
   ]
  },
  {
   "cell_type": "markdown",
   "id": "55fc00b2-8ae5-4a49-b856-4e422198c5a8",
   "metadata": {
    "tags": []
   },
   "source": [
    "# Research of the energies"
   ]
  },
  {
   "cell_type": "code",
   "execution_count": 34,
   "id": "50cfd5cb-4552-4274-b3bd-de7e73e8e94d",
   "metadata": {
    "tags": []
   },
   "outputs": [],
   "source": [
    "def find_change(E_arr,N_arr):\n",
    "    #find where and how much the nodes (N_arr) changes w.r.t E_arr\n",
    "    data = []\n",
    "    for i in range(0,len(E_arr)-1) :\n",
    "        if N_arr[i+1]-N_arr[i] > 0 :\n",
    "            data.append((i,N_arr[i+1]-N_arr[i]))\n",
    "    return data"
   ]
  },
  {
   "cell_type": "code",
   "execution_count": 99,
   "id": "5bca5476-e933-45e8-960d-4ea08fcdda37",
   "metadata": {
    "tags": []
   },
   "outputs": [],
   "source": [
    "def slice_E_arr(psi_range,x_range,V,E_arr,N_x_c,slices,temp_slices,remove_borders = False):\n",
    "    \"\"\"Function used to slice E_arr in slices containing only one number of nodes (except on the boundaries of the slices) \n",
    "    for the associated wavefunction.\n",
    "    \n",
    "    The slices which succesfuly contains only one number of nodes are stored in \"slices\"\n",
    "    The slices which cannot be cut small enough to contain only one number of nodes are stored in \"temp_slices\", either to be discarded or to\n",
    "    run them again in the function after having reduced their energy step.\n",
    "    \n",
    "    \"remove_borders\" has to be set to True when E_arr is a temp_slice coming from a precedent call of the function\"\"\"\n",
    "    \n",
    "    #verifying that the length of the E_arr is sufficient\n",
    "    if len(E_arr)<10:\n",
    "        print(\"IN FUNCTION slice_E_arr : insuficient length of E_arr\")\n",
    "        return False\n",
    "    \n",
    "    N_arr = np.zeros(len(E_arr))\n",
    "    for i in range(len(E_arr)):\n",
    "        log_error , N_arr[i] , psi_out = Do_mid_point(psi_range,x_range,V,E_arr[i],N_x_c)\n",
    "    E_crit = find_change(E_arr,N_arr)\n",
    "    print(E_crit, E_arr[0], E_arr[-1])\n",
    "    if (not remove_borders):\n",
    "        slices.append(( [ E_arr[0] , E_arr[E_crit[0][0]+2] ] ,N_arr[E_crit[0][0]]))\n",
    "        if E_crit[0][1] > 1 :\n",
    "            temp_slices.append([ E_arr[E_crit[0][0]] , E_arr[E_crit[0][0]+2] ])\n",
    "    \n",
    "    for i in range(1,len(E_crit)) :\n",
    "        slices.append(( [ E_arr[E_crit[i-1][0]] , E_arr[np.min([E_crit[i][0]+2,len(E_arr)-1])] ],N_arr[E_crit[i][0]]))\n",
    "        if E_crit[i][1] > 1 :\n",
    "            temp_slices.append([ E_arr[E_crit[i][0]] , E_arr[np.min([E_crit[i][0]+2,len(E_arr)-1])] ])\n",
    "\n",
    "    if (remove_borders and len(E_crit) == 1):\n",
    "        temp_slices.append([ E_arr[E_crit[0][0]] , E_arr[np.min([E_crit[0][0]+2,len(E_arr)-1])] ])\n",
    "    \n",
    "    \n",
    "    if (not remove_borders):\n",
    "        slices.append(( [ E_arr[E_crit[-1][0]] , E_arr[-1]],N_arr[-1]))\n",
    "        \n",
    "    return True"
   ]
  },
  {
   "cell_type": "code",
   "execution_count": 54,
   "id": "8d65aa91-613d-4dd2-94aa-8a3452533c2c",
   "metadata": {
    "tags": []
   },
   "outputs": [],
   "source": [
    "def find_E_N(psi_range,x_range,V,E_min,E_max,N_x_c,N,err=10**-2):\n",
    "    k = 20\n",
    "    err_arr = np.zeros(k)\n",
    "    N_arr = np.zeros(k)\n",
    "    E_m = E_min\n",
    "    E_M = E_max\n",
    "    E_guess = E_min\n",
    "    while (np.abs(E_m - E_M) > err):\n",
    "        E_arr = np.linspace(E_m,E_M,k)\n",
    "        for i in range(k):\n",
    "            err_arr[i] , N_arr[i] , psi_out = Do_mid_point(psi_range,x_range,V,E_arr[i],N_x_c)\n",
    "            \n",
    "        n_E_guess = np.argmin(np.abs(err_arr))\n",
    "        \n",
    "        if N_arr[n_E_guess] == N :\n",
    "            E_guess = E_arr[n_E_guess]\n",
    "            E_m = E_arr[np.max([n_E_guess-1,0])]\n",
    "            E_M = E_arr[np.min([n_E_guess+1,k-1])]\n",
    "        elif N_arr[n_E_guess] > N:\n",
    "            E_M = E_arr[np.max([n_E_guess-1,0])]\n",
    "        elif N_arr[n_E_guess] < N:\n",
    "            E_m = E_arr[np.min([n_E_guess+1,k-1])]\n",
    "            \n",
    "    return E_guess"
   ]
  },
  {
   "cell_type": "code",
   "execution_count": 37,
   "id": "5f81805a-a668-4aba-bd2a-ff603c583ea5",
   "metadata": {
    "tags": []
   },
   "outputs": [],
   "source": [
    "def normalization(psi, x):\n",
    "    norm = sp.simps(abs(psi)**2,x)\n",
    "    return psi/np.sqrt(norm)"
   ]
  },
  {
   "cell_type": "code",
   "execution_count": 106,
   "id": "fabc8cf5-ad89-4a75-8092-41a29e800ffe",
   "metadata": {
    "tags": []
   },
   "outputs": [],
   "source": [
    "def resolution(V,E_min,E_max,x_m,x_M,N_x_c=-1,dx=-1,eps=10**-5,err=10**-3):\n",
    "    ##--------------------------------------------------------------\n",
    "    #checking the validity of the arguments\n",
    "    args_ok = isinstance(V, types.FunctionType) and (E_min < E_max) and (x_m < x_M)\n",
    "    if (not args_ok) :\n",
    "        print('arguments are not valid')\n",
    "        return 0\n",
    "    \n",
    "    \n",
    "    ##--------------------------------------------------------------\n",
    "    #creation of the initialisations sets.\n",
    "    if dx == -1 : dx = (x_M-x_m)/100\n",
    "    \n",
    "    x_range = np.linspace(x_m,x_M,int((x_M-x_m)/dx))\n",
    "\n",
    "    psi_range = np.zeros(int((x_M-x_m)/dx))\n",
    "    psi_range[0] = psi_x_m\n",
    "    psi_range[1] = psi_x_m + eps\n",
    "    psi_range[-1] = psi_x_M\n",
    "    psi_range[-2] = psi_x_M + eps\n",
    "    \n",
    "    if N_x_c == -1 : N_x_c = int(len(psi_range)/2)\n",
    "    \n",
    "    ##--------------------------------------------------------------\n",
    "    #slicing [E_min,E_max] in arrays with constant number of nodes.\n",
    "    \n",
    "    slices = [] #array containing (slice,N in slice)\n",
    "    temp_slices = [] #array containing the slices that still needs to be processed\n",
    "    \n",
    "    #first search of energy where the number of nodes changes  \n",
    "    k=2*10**1 #number of test points for the search\n",
    "    E_arr = np.linspace(E_min,E_max,k)\n",
    "    \n",
    "    slice_E_arr(psi_range,x_range,V,E_arr,N_x_c,slices,temp_slices)\n",
    "    \n",
    "    converged = False\n",
    "    for i in range(30):\n",
    "        print(temp_slices)\n",
    "        print(slices)\n",
    "        print(\"\\n\")\n",
    "        if (len(temp_slices) != 0):\n",
    "            for slc in temp_slices.copy():\n",
    "                E_arr = np.linspace(slc[0],slc[-1],k)\n",
    "                temp_slices.pop(0)\n",
    "                slice_E_arr(psi_range,x_range,V,E_arr,N_x_c,slices,temp_slices,remove_borders = True)\n",
    "        else :\n",
    "            converged = True\n",
    "            break\n",
    "    if converged == False :\n",
    "        print(\"IN FUNCTION resolution : cannot have a convergence on the slicing of the energies\")\n",
    "        return False\n",
    "    ##--------------------------------------------------------------\n",
    "    #retrieving the Energie minimizing the log_error for each slice\n",
    "    E_sol = []\n",
    "    for slc in slices :\n",
    "        E_guess = find_E_N(psi_range,x_range,V,slc[0][0],slc[0][1],N_x_c,slc[1],err=err)\n",
    "        if not (E_guess == E_min or E_guess == E_max):\n",
    "            E_sol.append(E_guess)\n",
    "            \n",
    "    #formating and plotting the data\n",
    "    E_sol = np.asanyarray(E_sol)\n",
    "    E_sol.sort()\n",
    "    E_out = []\n",
    "    a_psi_out = []\n",
    "    \n",
    "    for E_found in E_sol :\n",
    "        err_psi , N_psi , psi_out = Do_mid_point(psi_range,x_range,V,E_found,N_x_c)\n",
    "        \n",
    "        psi_out = normalization(psi_out,x_range)\n",
    "        a_psi_out.append(psi_out+E_found)\n",
    "        \n",
    "        E_out.append((E_found,N_psi))\n",
    "    \n",
    "    \n",
    "    plt.figure()\n",
    "    \n",
    "    plt.ylabel('Energy')\n",
    "    plt.xlabel('x')\n",
    "    \n",
    "    #y_min = V(x_range).min() - abs(0.1*V(x_range).min()\n",
    "    y_min = E_min\n",
    "    \n",
    "    y_max = np.array(a_psi_out).max() + abs(0.1*np.array(a_psi_out).max())\n",
    "    #y_max = 0.5\n",
    "    plt.ylim([y_min, y_max])\n",
    "    \n",
    "    plt.plot(x_range,V(x_range))\n",
    "    for n in range(len(a_psi_out)):\n",
    "        plt.plot(x_range , a_psi_out[n])\n",
    "  \n",
    "    return E_out"
   ]
  },
  {
   "cell_type": "code",
   "execution_count": null,
   "id": "a1811585-e47c-4ce7-a443-b009f7c5387b",
   "metadata": {},
   "outputs": [],
   "source": [
    "resolution(Lennard_Jones_bis,-20,-0.1,0.01,x_M,N_x_c=300,dx=10**-3,eps=10**-7,err=10**-4)"
   ]
  },
  {
   "cell_type": "code",
   "execution_count": 107,
   "id": "0eadbcd3-18a8-4629-9205-e353d99bc461",
   "metadata": {},
   "outputs": [
    {
     "name": "stdout",
     "output_type": "stream",
     "text": [
      "[(3, 2.0), (13, 2.0)] -5.0 0.0\n",
      "[[-4.2105263157894735, -3.6842105263157894], [-1.5789473684210527, -1.0526315789473686]]\n",
      "[([-5.0, -3.6842105263157894], 0.0), ([-4.2105263157894735, -1.0526315789473686], 2.0), ([-1.5789473684210527, 0.0], 4.0)]\n",
      "\n",
      "\n",
      "[(3, 1.0), (4, 1.0)] -4.2105263157894735 -3.6842105263157894\n",
      "[(1, 1.0), (4, 1.0)] -1.5789473684210527 -1.0526315789473686\n",
      "[]\n",
      "[([-5.0, -3.6842105263157894], 0.0), ([-4.2105263157894735, -1.0526315789473686], 2.0), ([-1.5789473684210527, 0.0], 4.0), ([-4.127423822714682, -4.044321329639889], 1.0), ([-1.551246537396122, -1.4127423822714682], 3.0)]\n",
      "\n",
      "\n",
      "Wall time: 6.6 s\n"
     ]
    },
    {
     "data": {
      "text/plain": [
       "[(-4.769415520138734, 0),\n",
       " (-4.08805948388978, 1),\n",
       " (-2.9711251448346774, 2),\n",
       " (-1.502137030869929, 3)]"
      ]
     },
     "execution_count": 107,
     "metadata": {},
     "output_type": "execute_result"
    },
    {
     "data": {
      "image/png": "[encoded data removed]",
      "text/plain": [
       "<Figure size 432x288 with 1 Axes>"
      ]
     },
     "metadata": {
      "needs_background": "light"
     },
     "output_type": "display_data"
    }
   ],
   "source": [
    "time resolution(V,-V_0,0,x_m,x_M,N_x_c=-1,dx=10**-2,eps=10**-7,err=10**-2)"
   ]
  },
  {
   "cell_type": "code",
   "execution_count": 108,
   "id": "6f027c49-8a49-4bb0-b486-ab89fe5f8991",
   "metadata": {},
   "outputs": [
    {
     "name": "stdout",
     "output_type": "stream",
     "text": [
      "[(3, 2.0), (13, 2.0)] -5.0 0.0\n",
      "[[-4.2105263157894735, -3.6842105263157894], [-1.5789473684210527, -1.0526315789473686]]\n",
      "[([-5.0, -3.6842105263157894], 0.0), ([-4.2105263157894735, -1.0526315789473686], 2.0), ([-1.5789473684210527, 0.0], 4.0)]\n",
      "\n",
      "\n",
      "[(4, 2.0)] -4.2105263157894735 -3.6842105263157894\n",
      "[(1, 1.0), (3, 1.0)] -1.5789473684210527 -1.0526315789473686\n",
      "[[-4.099722991689751, -4.044321329639889]]\n",
      "[([-5.0, -3.6842105263157894], 0.0), ([-4.2105263157894735, -1.0526315789473686], 2.0), ([-1.5789473684210527, 0.0], 4.0), ([-1.551246537396122, -1.440443213296399], 3.0)]\n",
      "\n",
      "\n",
      "[(1, 1.0), (6, 1.0)] -4.099722991689751 -4.044321329639889\n",
      "[]\n",
      "[([-5.0, -3.6842105263157894], 0.0), ([-4.2105263157894735, -1.0526315789473686], 2.0), ([-1.5789473684210527, 0.0], 4.0), ([-1.551246537396122, -1.440443213296399], 3.0), ([-4.096807114739758, -4.076395976089809], 1.0)]\n",
      "\n",
      "\n",
      "Wall time: 1min 11s\n"
     ]
    },
    {
     "data": {
      "text/plain": [
       "[(-4.770566524197942, 0),\n",
       " (-4.088212951097674, 1),\n",
       " (-2.976649964318874, 2),\n",
       " (-1.4996815555436194, 3)]"
      ]
     },
     "execution_count": 108,
     "metadata": {},
     "output_type": "execute_result"
    },
    {
     "data": {
      "image/png": "[encoded data removed]",
      "text/plain": [
       "<Figure size 432x288 with 1 Axes>"
      ]
     },
     "metadata": {
      "needs_background": "light"
     },
     "output_type": "display_data"
    }
   ],
   "source": [
    "time resolution(V,-V_0,0,x_m,x_M,N_x_c=-1,dx=10**-3,eps=10**-7,err=10**-2)"
   ]
  },
  {
   "cell_type": "code",
   "execution_count": null,
   "id": "c8b8df56-e8e3-468a-b03c-7e806d7524f6",
   "metadata": {},
   "outputs": [],
   "source": []
  }
 ],
 "metadata": {
  "kernelspec": {
   "display_name": "Python 3",
   "language": "python",
   "name": "python3"
  },
  "language_info": {
   "codemirror_mode": {
    "name": "ipython",
    "version": 3
   },
   "file_extension": ".py",
   "mimetype": "text/x-python",
   "name": "python",
   "nbconvert_exporter": "python",
   "pygments_lexer": "ipython3",
   "version": "3.8.8"
  }
 },
 "nbformat": 4,
 "nbformat_minor": 5
}
