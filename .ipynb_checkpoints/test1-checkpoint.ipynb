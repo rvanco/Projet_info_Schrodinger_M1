{
 "cells": [
  {
   "cell_type": "code",
   "execution_count": 1,
   "id": "c8a8d002-0a0b-4b9e-941f-bfc6cc7f7e95",
   "metadata": {},
   "outputs": [],
   "source": [
    "import numpy as np\n",
    "from matplotlib import pyplot as plt"
   ]
  },
  {
   "cell_type": "code",
   "execution_count": 5,
   "id": "2cceb7a9-15f1-4983-9032-a1e42b605ce7",
   "metadata": {},
   "outputs": [],
   "source": [
    "def numerov(psi_range,x_range,V,E,direction):\n",
    "    \"\"\"psi_range = array contenant les psi_i avec les valeurs aux bords déjà mises en place \n",
    "    x_range = array contenant les x\n",
    "    V = fonction jouant le role de potentiel\n",
    "    E = energie à tester\n",
    "    direction -> 1 = gauche/droite  -1=droite/gauche\"\"\"\n",
    "    \n",
    "    #création de variables utiles\n",
    "    Q = lambda x : 2*(E-V(x))\n",
    "    h = x_range[1]-x_range[0]  \n",
    "    psi_out = psi_range.copy()\n",
    "    \n",
    "    #réalisation de l'intégration de Numerov\n",
    "    if direction == 1 :\n",
    "        for i in range(2,len(psi_range)):\n",
    "            psi_out[i] = (2*(1-5/12*h**2*Q(x_range[i-1]))*psi_out[i-1]-(1+1/12*h**2*Q(x_range[i-2]))*psi_out[i-2])/(1+1/12*h**2*Q(x_range[i]))\n",
    "    if direction == -1 :\n",
    "        for i in range(len(psi_range)-3,-1,-1):\n",
    "            psi_out[i] = (2*(1-5/12*h**2*Q(x_range[i+1]))*psi_out[i+1]-(1+1/12*h**2*Q(x_range[i+2]))*psi_out[i+2])/(1+1/12*h**2*Q(x_range[i]))\n",
    "    \n",
    "    return psi_out\n",
    "V_0 = 5\n",
    "a = 2\n",
    "def V(x):\n",
    "        return -V_0/2*(1-np.sign(np.abs(x)-a))\n",
    "def integrale(F,X):\n",
    "    sum=0\n",
    "    for i in range (0,len(F)-1):\n",
    "        sum+=(X[i+1]-X[i])*F[i]\n",
    "    return sum"
   ]
  },
  {
   "cell_type": "code",
   "execution_count": 3,
   "id": "0b1f4db1-47dc-4d4d-84d4-31ee9226270f",
   "metadata": {},
   "outputs": [],
   "source": [
    "x_m=-10\n",
    "x_M=10\n",
    "psi_x_m =0\n",
    "psi_x_M =0\n",
    "dx=10**(-2)\n",
    "eps=dx*10**(-5)\n",
    "E=-4.770734932405\n",
    "x_range = np.linspace(x_m,x_M,int((x_M-x_m)/dx))\n",
    "psi_range = np.zeros(int((x_M-x_m)/dx))\n",
    "psi_range[0] = 0\n",
    "psi_range[1] = eps"
   ]
  },
  {
   "cell_type": "code",
   "execution_count": 4,
   "id": "dc6957ce-5a9d-453f-8ef4-34c7013cc834",
   "metadata": {},
   "outputs": [
    {
     "data": {
      "text/plain": [
       "(0.0, 10.0)"
      ]
     },
     "execution_count": 4,
     "metadata": {},
     "output_type": "execute_result"
    },
    {
     "data": {
      "image/png": "[encoded data removed]",
      "text/plain": [
       "<Figure size 432x288 with 1 Axes>"
      ]
     },
     "metadata": {
      "needs_background": "light"
     },
     "output_type": "display_data"
    }
   ],
   "source": [
    "\n",
    "temp = -1\n",
    "normalisation = 80000\n",
    "#plt.plot(x_range[0:temp],V(x_range[0:temp]))\n",
    "out = numerov(psi_range,x_range,V,E,1)\n",
    "plt.plot(x_range[0:temp],out[0:temp]/normalisation)\n",
    "plt.xlim(-10,10)\n",
    "plt.ylim(0,10)"
   ]
  },
  {
   "cell_type": "code",
   "execution_count": 30,
   "id": "e8bebcc1-7144-46c4-88c2-f48d068c66a2",
   "metadata": {},
   "outputs": [],
   "source": [
    "E_min=-5\n",
    "E_max=0\n",
    "dE=0.005\n",
    "N_E=int((E_max-E_min)/dE+1)\n",
    "E_range=np.linspace(E_min,E_max,N_E)\n",
    "I=[]\n",
    "Y_last=[]\n",
    "Z_last=[]\n",
    "for E in E_range:\n",
    "    x_range = np.linspace(x_m,x_M,int((x_M-x_m)/dx))\n",
    "    psi_range = np.zeros(int((x_M-x_m)/dx))\n",
    "    psi_range[0] = 0\n",
    "    psi_range[1] = eps\n",
    "    #I.append(integrale(psi_range,x_range))\n",
    "    out=numerov(psi_range,x_range,V,E,1)\n",
    "    Y_last.append(abs(out[-1]))\n",
    "    Z_last.append(np.log(abs(out[-1])))\n",
    "    #plt.plot(x_range,out)"
   ]
  },
  {
   "cell_type": "code",
   "execution_count": 31,
   "id": "9367ddc2-0983-48cb-830f-d6e08a15eb3a",
   "metadata": {},
   "outputs": [
    {
     "data": {
      "text/plain": [
       "[<matplotlib.lines.Line2D at 0x227cb4c0880>]"
      ]
     },
     "execution_count": 31,
     "metadata": {},
     "output_type": "execute_result"
    },
    {
     "data": {
      "image/png": "[encoded data removed]",
      "text/plain": [
       "<Figure size 432x288 with 1 Axes>"
      ]
     },
     "metadata": {
      "needs_background": "light"
     },
     "output_type": "display_data"
    }
   ],
   "source": [
    "plt.plot(E_range,np.abs(Z_last))\n",
    "#plt.yscale('log')"
   ]
  },
  {
   "cell_type": "code",
   "execution_count": 35,
   "id": "6d0aece6-2834-4c17-8759-56170caaf0a8",
   "metadata": {},
   "outputs": [
    {
     "data": {
      "text/plain": [
       "-4.77"
      ]
     },
     "execution_count": 35,
     "metadata": {},
     "output_type": "execute_result"
    }
   ],
   "source": [
    "E_value=[]\n",
    "for i in range (1,N_E-1):\n",
    "    if Z_last[i]<Z_last[i+1] and Z_last[i]<Z_last[i-1]:\n",
    "        E_value.append(E_range[i])\n",
    "E_value[0]"
   ]
  },
  {
   "cell_type": "code",
   "execution_count": 95,
   "id": "7bef6deb-d8e4-4aee-b7bd-444762a14950",
   "metadata": {},
   "outputs": [],
   "source": [
    "Nb_passage=20 #nombre de passage effectuées\n",
    "It_passage=30 #nombre d'iterations effectuées à chaque passage (doit être > 4)\n",
    "zoom=2 # valeur de l'augmentation de precision entre chaque passage\n",
    "E_min=-2 #valeur de depart de recherche de l'energie\n",
    "dE=0.01 #pas de depart de l'energie\n",
    "x_m=-10\n",
    "x_M=10\n",
    "dx=10**(-2)"
   ]
  },
  {
   "cell_type": "code",
   "execution_count": 112,
   "id": "86ff3f51-49cf-45a5-88c1-69f31b895602",
   "metadata": {},
   "outputs": [
    {
     "name": "stdin",
     "output_type": "stream",
     "text": [
      "Afficher les solutions intermédiaires ? (y/n) y\n"
     ]
    },
    {
     "name": "stdout",
     "output_type": "stream",
     "text": [
      "Passage 1 :  -1.72  Precision:  1\n",
      "Passage 2 :  -1.58  Precision:  0.5\n",
      "Passage 3 :  -1.51  Precision:  0.25\n",
      "Passage 4 :  -1.50375  Precision:  0.125\n",
      "Passage 5 :  -1.5031249999999998  Precision:  0.0625\n",
      "Passage 6 :  -1.5024999999999997  Precision:  0.03125\n",
      "Passage 7 :  -1.5023437499999996  Precision:  0.015625\n",
      "Passage 8 :  -1.5022656249999997  Precision:  0.0078125\n",
      "Passage 9 :  -1.5022656249999997  Precision:  0.00390625\n",
      "Passage 10 :  -1.5022265624999998  Precision:  0.001953125\n",
      "Passage 11 :  -1.5022265624999998  Precision:  0.0009765625\n",
      "Passage 12 :  -1.5022216796874996  Precision:  0.00048828125\n",
      "Passage 13 :  -1.5022167968749995  Precision:  0.000244140625\n",
      "Passage 14 :  -1.5022167968749995  Precision:  0.0001220703125\n",
      "Passage 15 :  -1.5022161865234371  Precision:  6.103515625e-05\n",
      "Passage 16 :  -1.5022158813476558  Precision:  3.0517578125e-05\n",
      "Passage 17 :  -1.5022157287597653  Precision:  1.52587890625e-05\n",
      "Passage 18 :  -1.5022155761718747  Precision:  7.62939453125e-06\n",
      "Passage 19 :  -1.502215538024902  Precision:  3.814697265625e-06\n",
      "Passage 20 :  -1.5022155189514157  Precision:  1.9073486328125e-06\n"
     ]
    }
   ],
   "source": [
    "dichotomie(V,20,30,2,-2,0.01)"
   ]
  },
  {
   "cell_type": "code",
   "execution_count": 111,
   "id": "07581f04-d258-429c-ae40-9845ce68ed66",
   "metadata": {},
   "outputs": [],
   "source": [
    "def dichotomie (V,Nb_passage,It_passage,zoom,E_min,dE):\n",
    "    \"\"\"\n",
    "    V=potentiel\n",
    "    Nb_passage=nombre de passage effectuées\n",
    "    It_passage=nombre d'iterations effectuées à chaque passage (doit être > 4)\n",
    "    zoom=valeur de l'augmentation de precision entre chaque passage\n",
    "    E_min=valeur de depart de recherche de l'energie\n",
    "    dE=pas de depart de l'energie \n",
    "    \"\"\"\n",
    "    affiche=input(\"Afficher les solutions intermédiaires ? (y/n)\")\n",
    "    \n",
    "    x_m=-10\n",
    "    x_M=10\n",
    "    dx=10**(-2)\n",
    "    \n",
    "    x_range = np.linspace(x_m,x_M,int((x_M-x_m)/dx))\n",
    "    psi_zero=np.zeros(int((x_M-x_m)/dx))\n",
    "    precision=1\n",
    "    for passage in range(0,Nb_passage):\n",
    "        E=E_min \n",
    "        Z_last=[] # contient la dernière valeur de chaque fonction d'onde (en log)\n",
    "\n",
    "        #remise à 0 de la fonction d'onde\n",
    "        psi_range = psi_zero\n",
    "        psi_range[0] = 0\n",
    "        psi_range[1] = eps\n",
    "\n",
    "        out=numerov(psi_range,x_range,V,E-2*dE,1)# -2*dE pour ne pas louper la valeur si elle est trouvée à la 1ere iteration et pour generer 2 valeurs\n",
    "        Z_last.append(np.log(abs(out[-1])))\n",
    "        out=numerov(psi_range,x_range,V,E-dE,1)\n",
    "        Z_last.append(np.log(abs(out[-1])))\n",
    "\n",
    "        for it in range(0,It_passage):\n",
    "            #remise à 0 de la fonction d'onde\n",
    "            psi_range = psi_zero\n",
    "            psi_range[0] = 0\n",
    "            psi_range[1] = eps\n",
    "\n",
    "            out=numerov(psi_range,x_range,V,E,1)\n",
    "            Z_last.append(np.log(abs(out[-1])))\n",
    "\n",
    "            #print(E,\"  \",E_min,\"  \",Z_last[-2],\"  \")\n",
    "            E+=dE\n",
    "        #print( \"\\n \",Z_last[np.argmin(Z_last) ])\n",
    "        E_min+=np.argmin(Z_last)*dE-3*dE\n",
    "        if affiche==\"y\":\n",
    "            print(\"Passage\",passage+1,\": \",E_min,\" Precision: \",precision)\n",
    "        dE=dE/zoom\n",
    "        precision/=zoom"
   ]
  },
  {
   "cell_type": "code",
   "execution_count": null,
   "id": "f5f92ace-06b1-4d36-b966-50b4a7b2ffd5",
   "metadata": {},
   "outputs": [],
   "source": []
  }
 ],
 "metadata": {
  "kernelspec": {
   "display_name": "Python 3 (ipykernel)",
   "language": "python",
   "name": "python3"
  },
  "language_info": {
   "codemirror_mode": {
    "name": "ipython",
    "version": 3
   },
   "file_extension": ".py",
   "mimetype": "text/x-python",
   "name": "python",
   "nbconvert_exporter": "python",
   "pygments_lexer": "ipython3",
   "version": "3.9.7"
  }
 },
 "nbformat": 4,
 "nbformat_minor": 5
}
