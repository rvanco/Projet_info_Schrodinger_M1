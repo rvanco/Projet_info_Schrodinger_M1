{
 "cells": [
  {
   "cell_type": "code",
   "execution_count": 38,
   "id": "c8a8d002-0a0b-4b9e-941f-bfc6cc7f7e95",
   "metadata": {},
   "outputs": [],
   "source": [
    "import numpy as np\n",
    "import scipy.integrate as sp\n",
    "from matplotlib import pyplot as plt\n",
    "from tqdm.notebook import tqdm"
   ]
  },
  {
   "cell_type": "code",
   "execution_count": 39,
   "id": "2cceb7a9-15f1-4983-9032-a1e42b605ce7",
   "metadata": {},
   "outputs": [],
   "source": [
    "V_0 = 5\n",
    "x0=1\n",
    "a = 2\n",
    "a1=10\n",
    "a2=1\n",
    "b=1\n",
    "def V1(x):\n",
    "        return -V_0/2*(1-np.sign(np.abs(x)-a))\n",
    "def V2(x):\n",
    "        return V_0*(x/a)**2\n",
    "def V3(x):\n",
    "        return 4*V_0*((a1*2**(-1/6)/x)**12-(a1*2**(-1/6)/x)**6 )\n",
    "def V4(x):\n",
    "        return V_0*((1-np.exp(-a*(x-x0)))**2)\n",
    "def V5 (x):\n",
    "    #quadratic well\n",
    "    return V_0/2*((x/b)**2-1)*(1-np.sign(np.abs(x)-b))\n",
    "def V6(x):\n",
    "    return 100*(V_0-V_0/2*(1-np.sign(np.abs(x)-a)))\n",
    "def normalization(psi, x):\n",
    "    norm = sp.simps(abs(psi)**2,x)\n",
    "    return psi/np.sqrt(norm)"
   ]
  },
  {
   "cell_type": "code",
   "execution_count": 40,
   "id": "9e77bac9-6356-4ef9-8840-8517579014f1",
   "metadata": {},
   "outputs": [],
   "source": [
    "def numerov(psi_range,x_range,V,E,direction):\n",
    "    \"\"\"psi_range = array contenant les psi_i avec les valeurs aux bords déjà mises en place \n",
    "    x_range = array contenant les x\n",
    "    V = fonction jouant le role de potentiel\n",
    "    E = energie à tester\n",
    "    direction -> 1 = gauche/droite  -1=droite/gauche\"\"\"\n",
    "    \n",
    "    #création de variables utiles\n",
    "    Q = lambda x : 2*(E-V(x))\n",
    "    h = x_range[1]-x_range[0]  \n",
    "    psi_out = psi_range.copy()\n",
    "    \n",
    "    #réalisation de l'intégration de Numerov\n",
    "    if direction == 1 :\n",
    "        for i in range(2,len(psi_range)):\n",
    "            psi_out[i] = (2*(1-5/12*h**2*Q(x_range[i-1]))*psi_out[i-1]-(1+1/12*h**2*Q(x_range[i-2]))*psi_out[i-2])/(1+1/12*h**2*Q(x_range[i]))\n",
    "    if direction == -1 :\n",
    "        for i in range(len(psi_range)-3,-1,-1):\n",
    "            psi_out[i] = (2*(1-5/12*h**2*Q(x_range[i+1]))*psi_out[i+1]-(1+1/12*h**2*Q(x_range[i+2]))*psi_out[i+2])/(1+1/12*h**2*Q(x_range[i]))\n",
    "    \n",
    "    return psi_out"
   ]
  },
  {
   "cell_type": "code",
   "execution_count": 41,
   "id": "d9b7b5ab-e743-4df5-b0c2-c2f8fd95fafd",
   "metadata": {},
   "outputs": [],
   "source": [
    "def calculus(x_range,E,V):\n",
    "    \"\"\"\n",
    "    CALCULE LA FONCTION D'ONDE AVEC LA METHODE MIDPOINT POUR UNE ENERGIE ET UN POTENTIEL DONNES\n",
    "    \"\"\"\n",
    "    N_x_c=int(len(x_range)/2)\n",
    "    psi_range=np.zeros(len(x_range))\n",
    "    psi_range[0] = 0\n",
    "    psi_range[1] = eps\n",
    "    psi_range[-1] = 0\n",
    "    psi_range[-2] = eps\n",
    "    #découpage des ranges au mid-point\n",
    "    x_left = x_range.copy()[0:N_x_c+1]\n",
    "    x_right = x_range.copy()[N_x_c:] \n",
    "    \n",
    "    psi_left = psi_range.copy()[0:N_x_c+1]\n",
    "    psi_right = psi_range.copy()[N_x_c:]\n",
    "    \n",
    "    #réalisation des intégrations de numerov\n",
    "    psi_left = numerov(psi_left,x_left,V,E,1)\n",
    "    psi_right = numerov(psi_right,x_right,V,E,-1)\n",
    "    psi_out = np.concatenate((psi_left[0:-1],psi_right*((psi_left[-1])/(psi_right[0]))))\n",
    "\n",
    "    return psi_out"
   ]
  },
  {
   "cell_type": "code",
   "execution_count": 42,
   "id": "647c6397-7132-4d59-913a-60c56e1480f6",
   "metadata": {
    "tags": []
   },
   "outputs": [],
   "source": [
    "def recherche_lin(V,x_range,E_min,E_max,dE,eps,sens):\n",
    "    \"\"\"\n",
    "    CONTIENT LES BORNES ET LE PAS DES ENERGIES A TESTER. TRACE LA DIVERGENCE DE LA FONCTION D'ONDE EN x_M EN FONCTION DE L'ENERGIE. SORT LES MINIMAS LOCAUX DU ln DE CETTE DIVERGENCE.\n",
    "    CALCULE LA FONCTION D'ONDE DE GAUCHE A DROITE OU DE DROITE A GAUGHE SELON LE SIGNE DE \"sens\"\n",
    "    V=potentiel\n",
    "    E_min,E_max = bornes d'energies à tester\n",
    "    dE= pas entre 2 energies testées \n",
    "    eps= valeurs de la dérivée première de psi au premier point (la valeur de psi est arbitrairement prise à 0)\n",
    "    sens= +1(-1) pour calculer les fonctions d'ondes de selon les x croissant(décroissant)\n",
    "    \"\"\"\n",
    "    N_E=int((E_max-E_min)/dE+1)\n",
    "    E_range=np.linspace(E_min,E_max,N_E)\n",
    "    I=[]\n",
    "    Y_last=[]\n",
    "    Z_last=[]\n",
    "    print(\"RECHERCHE LINEAIRE:\")\n",
    "    for E in tqdm(E_range):\n",
    "        psi_range = np.zeros(len(x_range))\n",
    "        if sens==1:\n",
    "            psi_range[0] = 0\n",
    "            psi_range[1] = eps\n",
    "            out=numerov(psi_range,x_range,V,E,1)\n",
    "            Y_last.append(abs(out[-1]))\n",
    "            Z_last.append(np.log(abs(out[-1])))\n",
    "\n",
    "        if sens ==-1:   \n",
    "            psi_range[-1] = 0\n",
    "            psi_range[-2] = eps\n",
    "            out=numerov(psi_range,x_range,V,E,-1)\n",
    "            Y_last+=[abs(out[0])]\n",
    "            Z_last+=[np.log(abs(out[0]))]\n",
    "            \n",
    "    #plt.plot(E_range,np.abs(Y_last))\n",
    "    #plt.plot(E_range,Z_last)\n",
    "    E_value=[]\n",
    "    for i in range (1,N_E-1):\n",
    "        if Z_last[i]<Z_last[i+1] and Z_last[i]<Z_last[i-1]:\n",
    "            E_value.append(E_range[i])\n",
    "    return E_value"
   ]
  },
  {
   "cell_type": "code",
   "execution_count": 43,
   "id": "07581f04-d258-429c-ae40-9845ce68ed66",
   "metadata": {
    "tags": []
   },
   "outputs": [],
   "source": [
    "def dichotomie (V,x_range,Nb_passage,It_passage,zoom,E_ini,delta_E,eps,sens):\n",
    "    \"\"\"\n",
    "    V=potentiel\n",
    "    Nb_passage=nombre de passage effectuées\n",
    "    It_passage=nombre d'iterations effectuées à chaque passage (doit être > 4)\n",
    "    zoom=valeur de l'augmentation de precision entre chaque passage\n",
    "    E_ini=valeur de depart de recherche de l'energie\n",
    "    delta_E= étendue de recherche de l'énergie autour de E_ini\n",
    "    eps= valeurs de la dérivée première de psi au premier point (la valeur de psi est arbitrairement prise à 0)\n",
    "    sens= +1(-1) pour calculer les fonctions d'ondes de selon les x croissant(décroissant)\n",
    "    \"\"\"\n",
    "    psi_zero=np.zeros(len(x_range))\n",
    "    for passage in range(0,Nb_passage): \n",
    "        # boucle de recherche de l'energie optimale par passage dans la gamme d'energie donnée par E_range:\n",
    "        E_range=np.linspace(E_ini-delta_E/2,E_ini+delta_E/2,It_passage) #créé la liste des valeurs de E à être testés\n",
    "        Z_last=[] # contient la dernière valeur de chaque fonction d'onde (en log)\n",
    "\n",
    "        for iteration in range (0,It_passage):\n",
    "            # boucle de calcul de la fonction d'onde correspondant chaque energie dans E_range:\n",
    "            E=E_range[iteration]\n",
    "            #remise à 0 de la fonction d'onde:\n",
    "            psi_range = psi_zero\n",
    "            psi_range[0] = 0\n",
    "            psi_range[1] = eps\n",
    "            out=numerov(psi_range,x_range,V,E,sens)\n",
    "            Z_last.append(np.log(abs(out[-1])))\n",
    "            \n",
    "        # selection de l'energie optimale:\n",
    "        E_ini=E_range[np.argmin(Z_last)]\n",
    "        delta_E/=zoom\n",
    "    return E_ini\n",
    "            \n"
   ]
  },
  {
   "cell_type": "code",
   "execution_count": 44,
   "id": "c611709f-5154-432f-a971-91308f6c255e",
   "metadata": {},
   "outputs": [],
   "source": [
    "def dichotomie_sens (V,x_range,Nb_passage,It_passage,zoom,E_ini,delta_E,eps,sens):\n",
    "    \"\"\"\n",
    "    V=potentiel\n",
    "    Nb_passage=nombre de passage effectuées\n",
    "    It_passage=nombre d'iterations effectuées à chaque passage (doit être > 4)\n",
    "    zoom=valeur de l'augmentation de precision entre chaque passage\n",
    "    E_ini=valeur de depart de recherche de l'energie\n",
    "    delta_E= étendue de recherche de l'énergie autour de E_ini\n",
    "    eps= valeurs de la dérivée première de psi au premier point (la valeur de psi est arbitrairement prise à 0)\n",
    "    sens= +1(-1) pour calculer les fonctions d'ondes de selon les x croissant(décroissant)\n",
    "    \"\"\"\n",
    "    psi_zero=np.zeros(len(x_range))\n",
    "    for passage in tqdm(range(0,Nb_passage)): \n",
    "        # boucle de recherche de l'energie optimale par passage dans la gamme d'energie donnée par E_range:\n",
    "        E_range=np.linspace(E_ini-delta_E/2,E_ini+delta_E/2,It_passage) #créé la liste des valeurs de E à être testés\n",
    "        Z_last=[] # contient la dernière valeur de chaque fonction d'onde (en log)\n",
    "\n",
    "        for iteration in range (0,It_passage):\n",
    "            # boucle de calcul de la fonction d'onde correspondant chaque energie dans E_range:\n",
    "            E=E_range[iteration]\n",
    "            psi_range = psi_zero\n",
    "            if sens==1:\n",
    "                psi_range[0] = 0\n",
    "                psi_range[1] = eps\n",
    "                out=numerov(psi_range,x_range,V,E,1)\n",
    "                Z_last.append(np.log(abs(out[-1])))\n",
    "\n",
    "            if sens ==-1:   \n",
    "                psi_range[-1] = 0\n",
    "                psi_range[-2] = eps\n",
    "                out=numerov(psi_range,x_range,V,E,-1)\n",
    "                Z_last+=[np.log(abs(out[0]))]\n",
    "\n",
    "            \n",
    "        # selection de l'energie optimale:\n",
    "        E_ini=E_range[np.argmin(Z_last)]\n",
    "        delta_E/=zoom\n",
    "    return E_ini\n",
    "            \n"
   ]
  },
  {
   "cell_type": "code",
   "execution_count": 45,
   "id": "c96049bb-20d2-47f9-ae42-66c1ad11f821",
   "metadata": {
    "tags": []
   },
   "outputs": [],
   "source": [
    "def dichotomie_affiche (V,x_range,Nb_passage,It_passage,zoom,E_ini,delta_E,eps,sens):\n",
    "    \"\"\"\n",
    "    V=potentiel\n",
    "    Nb_passage=nombre de passage effectuées\n",
    "    It_passage=nombre d'iterations effectuées à chaque passage (doit être > 4)\n",
    "    zoom=valeur de l'augmentation de precision entre chaque passage\n",
    "    E_ini=valeur de depart de recherche de l'energie\n",
    "    delta_E= étendue de recherche de l'énergie autour de E_ini\n",
    "    eps= valeurs de la dérivée première de psi au premier point (la valeur de psi est arbitrairement prise à 0)\n",
    "    sens= +1(-1) pour calculer les fonctions d'ondes de selon les x croissant(décroissant)\n",
    "    \"\"\"\n",
    "    affiche_sol=input(\"Afficher les solutions intermédiaires ? (y/n)\")\n",
    "    affiche_graph=input(\"Afficher les graphiques intermédiaires ? (y/n)\")\n",
    "    psi_zero=np.zeros(len(x_range))\n",
    "    if affiche_graph==\"y\":\n",
    "        plt.figure(figsize=(30, 10))\n",
    "    for passage in range(0,Nb_passage): \n",
    "        # boucle de recherche de l'energie optimale par passage dans la gamme d'energie donnée par E_range:\n",
    "        E_range=np.linspace(E_ini-delta_E/2,E_ini+delta_E/2,It_passage) #créé la liste des valeurs de E à être testés\n",
    "        Z_last=[] # contient la dernière valeur de chaque fonction d'onde (en log)\n",
    "\n",
    "        for iteration in range (0,It_passage):\n",
    "            # boucle de calcul de la fonction d'onde correspondant chaque energie dans E_range:\n",
    "            E=E_range[iteration]\n",
    "            psi_range = psi_zero\n",
    "            if sens==1:\n",
    "                psi_range[0] = 0\n",
    "                psi_range[1] = eps\n",
    "                out=numerov(psi_range,x_range,V,E,1)\n",
    "                Z_last.append(np.log(abs(out[-1])))\n",
    "\n",
    "            if sens ==-1:   \n",
    "                psi_range[-1] = 0\n",
    "                psi_range[-2] = eps\n",
    "                out=numerov(psi_range,x_range,V,E,-1)\n",
    "                Z_last+=[np.log(abs(out[0]))]\n",
    "\n",
    "            \n",
    "        # selection de l'energie optimale:\n",
    "        E_ini=E_range[np.argmin(Z_last)]\n",
    "        delta_E/=zoom\n",
    "        if affiche_sol==\"y\":\n",
    "            print(\"Passage\",passage+1,\": \",E_ini,\" Precision: \",delta_E)\n",
    "        if affiche_graph==\"y\":\n",
    "            place=10-Nb_passage+passage\n",
    "            if place>0:\n",
    "               #remise à 0 de la fonction d'onde:\n",
    "                psi_range = psi_zero\n",
    "                psi_range[0] = 0\n",
    "                psi_range[1] = eps\n",
    "                out=calculus(x_range,E_ini,V)\n",
    "                string=str(2)+str(5)+str(place)\n",
    "                plt.subplot(int(string))\n",
    "                plt.plot(x_range,out)\n",
    "                plt.title(\"precision: \"+str(delta_E))\n",
    "    return E_ini\n",
    "            \n"
   ]
  },
  {
   "cell_type": "code",
   "execution_count": 46,
   "id": "1d46612c-9427-4940-adeb-f8bb7758e923",
   "metadata": {
    "tags": []
   },
   "outputs": [],
   "source": [
    "def recherche(V,E_min,E_max,dE,sens,x_range,Nb_passage,It_passage,zoom,delta_E,eps):\n",
    "    \"\"\"\n",
    "    V=potentiel\n",
    "    E_min=plus petite valeur de l'energie à être testée\n",
    "    E_max=plus grande valeur de l'energie à être testée\n",
    "    dE=pas des energies à tester lors de la recherche linéaire\n",
    "    sens= +1(-1) pour calculer les fonctions d'ondes de selon les x croissant(décroissant)    \n",
    "    x_range= valeurs des x pour lesquels psi va être calculée\n",
    "    Nb_passage=nombre de passage effectuées\n",
    "    It_passage=nombre d'iterations effectuées à chaque passage (doit être > 4)\n",
    "    zoom=valeur de l'augmentation de precision entre chaque passage\n",
    "    delta_E= étendue de recherche de l'énergie autour de E_ini\n",
    "    \"\"\"\n",
    "    E_lin_list=recherche_lin(V,x_range,E_min,E_max,dE,eps,sens) #recherche approximative des énergies\n",
    "    E_dich_list=[]\n",
    "    psi_zero=np.zeros(len(x_range))\n",
    "    print(\"\\n \\n AUGMENTATION DE LA PRECISION DES ENERGIES:\")\n",
    "    for i in tqdm(range(0,len(E_lin_list))): #augmentation de la précision des énergies\n",
    "        E_ini=E_lin_list[i] #valeur de depart de recherche de l'energie\n",
    "        delta_E=0.1 #étendue de recherche de l'énergie autour de E_ini\n",
    "        x_range = np.linspace(x_m,x_M,int((x_M-x_m)/dx))\n",
    "        print(\" \\n RECHERCHE PAR DICHOTOMIE DE L'ENERGIE \"+str(i+1)+\":\")\n",
    "        E_dich_list.append(dichotomie_sens(V,x_range,Nb_passage,It_passage,zoom,E_ini,delta_E,eps,sens))\n",
    "        print(str(E_lin_list[i]) +\" ===> \"+ str(E_dich_list[i])+\"\\n \\n\")\n",
    "    for i in range (0,len(E_dich_list)): #tracé des fonctions d'onde\n",
    "        #remise à 0 de la fonction d'onde:\n",
    "        psi_range = psi_zero\n",
    "        psi_range[0] = 0\n",
    "        psi_range[1] = eps\n",
    "        out=calculus(x_range,E_dich_list[i],V)\n",
    "        plt.plot(x_range,normalization(out,x_range))\n",
    "    \n",
    "    #return E_dich_list"
   ]
  },
  {
   "cell_type": "code",
   "execution_count": 75,
   "id": "746e7402-35e0-4a94-af17-9a782d4872fe",
   "metadata": {
    "tags": []
   },
   "outputs": [
    {
     "data": {
      "text/plain": [
       "(0.0, 100.0)"
      ]
     },
     "execution_count": 75,
     "metadata": {},
     "output_type": "execute_result"
    },
    {
     "data": {
      "image/png": "[encoded data removed]",
      "text/plain": [
       "<Figure size 432x288 with 1 Axes>"
      ]
     },
     "metadata": {
      "needs_background": "light"
     },
     "output_type": "display_data"
    }
   ],
   "source": [
    "#CONTIENT LA PLAGE DES VALEURS DE X UTILES,LA VALEUR DE LA PREMIERE DERIVEE EN x_m, ET LE POTENTIEL. TRACE LE POTENTIEL.\n",
    "V=V6 #potentiel utilisé\n",
    "x_m=-3\n",
    "x_M=3\n",
    "dx=10**(-2)\n",
    "eps=dx*10**(-5)\n",
    "x_range = np.linspace(x_m,x_M,int((x_M-x_m)/dx))\n",
    "plt.plot(x_range,V(x_range))\n",
    "#plt.yscale('log')\n",
    "plt.ylim(0,100)"
   ]
  },
  {
   "cell_type": "code",
   "execution_count": 76,
   "id": "fb995f41-b491-477d-be37-9a9814665957",
   "metadata": {
    "tags": []
   },
   "outputs": [
    {
     "name": "stdout",
     "output_type": "stream",
     "text": [
      "RECHERCHE LINEAIRE:\n"
     ]
    },
    {
     "data": {
      "application/vnd.jupyter.widget-view+json": {
       "model_id": "b6df12a3fa614195a77649bd8a005f19",
       "version_major": 2,
       "version_minor": 0
      },
      "text/plain": [
       "  0%|          | 0/1001 [00:00<?, ?it/s]"
      ]
     },
     "metadata": {},
     "output_type": "display_data"
    },
    {
     "name": "stdout",
     "output_type": "stream",
     "text": [
      "\n",
      " \n",
      " AUGMENTATION DE LA PRECISION DES ENERGIES:\n"
     ]
    },
    {
     "data": {
      "application/vnd.jupyter.widget-view+json": {
       "model_id": "04172fd8403841cea03211d8bf242a2d",
       "version_major": 2,
       "version_minor": 0
      },
      "text/plain": [
       "  0%|          | 0/5 [00:00<?, ?it/s]"
      ]
     },
     "metadata": {},
     "output_type": "display_data"
    },
    {
     "name": "stdout",
     "output_type": "stream",
     "text": [
      " \n",
      " RECHERCHE PAR DICHOTOMIE DE L'ENERGIE 1:\n"
     ]
    },
    {
     "data": {
      "application/vnd.jupyter.widget-view+json": {
       "model_id": "6fa2a5d5c009459193f8bda9c0a76cd9",
       "version_major": 2,
       "version_minor": 0
      },
      "text/plain": [
       "  0%|          | 0/10 [00:00<?, ?it/s]"
      ]
     },
     "metadata": {},
     "output_type": "display_data"
    },
    {
     "name": "stdout",
     "output_type": "stream",
     "text": [
      "0.3 ===> 0.2978403963722222\n",
      " \n",
      "\n",
      " \n",
      " RECHERCHE PAR DICHOTOMIE DE L'ENERGIE 2:\n"
     ]
    },
    {
     "data": {
      "application/vnd.jupyter.widget-view+json": {
       "model_id": "f7045d6ad07f4796ae295115a1ba1a6e",
       "version_major": 2,
       "version_minor": 0
      },
      "text/plain": [
       "  0%|          | 0/10 [00:00<?, ?it/s]"
      ]
     },
     "metadata": {},
     "output_type": "display_data"
    },
    {
     "name": "stdout",
     "output_type": "stream",
     "text": [
      "1.19 ===> 1.19135081505\n",
      " \n",
      "\n",
      " \n",
      " RECHERCHE PAR DICHOTOMIE DE L'ENERGIE 3:\n"
     ]
    },
    {
     "data": {
      "application/vnd.jupyter.widget-view+json": {
       "model_id": "97cf5eea37834afca97028e97eaaaa95",
       "version_major": 2,
       "version_minor": 0
      },
      "text/plain": [
       "  0%|          | 0/10 [00:00<?, ?it/s]"
      ]
     },
     "metadata": {},
     "output_type": "display_data"
    },
    {
     "name": "stdout",
     "output_type": "stream",
     "text": [
      "2.68 ===> 2.680498857005556\n",
      " \n",
      "\n",
      " \n",
      " RECHERCHE PAR DICHOTOMIE DE L'ENERGIE 4:\n"
     ]
    },
    {
     "data": {
      "application/vnd.jupyter.widget-view+json": {
       "model_id": "156d1196258943998392fbd6b539bfb1",
       "version_major": 2,
       "version_minor": 0
      },
      "text/plain": [
       "  0%|          | 0/10 [00:00<?, ?it/s]"
      ]
     },
     "metadata": {},
     "output_type": "display_data"
    },
    {
     "name": "stdout",
     "output_type": "stream",
     "text": [
      "4.7700000000000005 ===> 4.765230229850001\n",
      " \n",
      "\n",
      " \n",
      " RECHERCHE PAR DICHOTOMIE DE L'ENERGIE 5:\n"
     ]
    },
    {
     "data": {
      "application/vnd.jupyter.widget-view+json": {
       "model_id": "4e59ce958c84449e892adca1d0f0abb6",
       "version_major": 2,
       "version_minor": 0
      },
      "text/plain": [
       "  0%|          | 0/10 [00:00<?, ?it/s]"
      ]
     },
     "metadata": {},
     "output_type": "display_data"
    },
    {
     "name": "stdout",
     "output_type": "stream",
     "text": [
      "7.45 ===> 7.445468300827777\n",
      " \n",
      "\n"
     ]
    },
    {
     "data": {
      "image/png": "[encoded data removed]",
      "text/plain": [
       "<Figure size 432x288 with 1 Axes>"
      ]
     },
     "metadata": {
      "needs_background": "light"
     },
     "output_type": "display_data"
    }
   ],
   "source": [
    "#CONTIENT LA PLAGE D'ENERGIE A TESTER, LE PAS D'ENERGIE POUR LA RECHERCHE LINEAIRE ET LES PARAMETRES DE LA DICHOTOMIE\n",
    "E_min=0\n",
    "E_max=10\n",
    "dE=0.01\n",
    "sens=-1\n",
    "Nb_passage=10 #nombre de passage effectués\n",
    "It_passage=10 #nombre d'iterations effectuées à chaque passage (doit être > 4)\n",
    "zoom=10 # valeur de l'augmentation de precision entre chaque passage\n",
    "delta_E=0.1 #étendue de recherche de l'énergie autour de E_ini\n",
    "recherche(V,E_min,E_max,dE,sens,x_range,Nb_passage,It_passage,zoom,delta_E,eps)"
   ]
  },
  {
   "cell_type": "code",
   "execution_count": null,
   "id": "18acea86-627b-4290-ab28-40f6c67f320a",
   "metadata": {},
   "outputs": [],
   "source": []
  }
 ],
 "metadata": {
  "kernelspec": {
   "display_name": "Python 3 (ipykernel)",
   "language": "python",
   "name": "python3"
  },
  "language_info": {
   "codemirror_mode": {
    "name": "ipython",
    "version": 3
   },
   "file_extension": ".py",
   "mimetype": "text/x-python",
   "name": "python",
   "nbconvert_exporter": "python",
   "pygments_lexer": "ipython3",
   "version": "3.9.7"
  }
 },
 "nbformat": 4,
 "nbformat_minor": 5
}
