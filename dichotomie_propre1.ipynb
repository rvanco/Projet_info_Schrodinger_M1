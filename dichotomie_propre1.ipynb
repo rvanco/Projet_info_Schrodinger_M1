{
 "cells": [
  {
   "cell_type": "code",
   "execution_count": 1,
   "id": "c8a8d002-0a0b-4b9e-941f-bfc6cc7f7e95",
   "metadata": {},
   "outputs": [],
   "source": [
    "import numpy as np\n",
    "from matplotlib import pyplot as plt"
   ]
  },
  {
   "cell_type": "code",
   "execution_count": 2,
   "id": "2cceb7a9-15f1-4983-9032-a1e42b605ce7",
   "metadata": {},
   "outputs": [],
   "source": [
    "def numerov(psi_range,x_range,V,E,direction):\n",
    "    \"\"\"psi_range = array contenant les psi_i avec les valeurs aux bords déjà mises en place \n",
    "    x_range = array contenant les x\n",
    "    V = fonction jouant le role de potentiel\n",
    "    E = energie à tester\n",
    "    direction -> 1 = gauche/droite  -1=droite/gauche\"\"\"\n",
    "    \n",
    "    #création de variables utiles\n",
    "    Q = lambda x : 2*(E-V(x))\n",
    "    h = x_range[1]-x_range[0]  \n",
    "    psi_out = psi_range.copy()\n",
    "    \n",
    "    #réalisation de l'intégration de Numerov\n",
    "    if direction == 1 :\n",
    "        for i in range(2,len(psi_range)):\n",
    "            psi_out[i] = (2*(1-5/12*h**2*Q(x_range[i-1]))*psi_out[i-1]-(1+1/12*h**2*Q(x_range[i-2]))*psi_out[i-2])/(1+1/12*h**2*Q(x_range[i]))\n",
    "    if direction == -1 :\n",
    "        for i in range(len(psi_range)-3,-1,-1):\n",
    "            psi_out[i] = (2*(1-5/12*h**2*Q(x_range[i+1]))*psi_out[i+1]-(1+1/12*h**2*Q(x_range[i+2]))*psi_out[i+2])/(1+1/12*h**2*Q(x_range[i]))\n",
    "    \n",
    "    return psi_out\n",
    "\n",
    "V_0 = 5\n",
    "x0=1\n",
    "a = 2\n",
    "a1=1\n",
    "a2=0.9\n",
    "def V1(x):\n",
    "        return -V_0/2*(1-np.sign(np.abs(x)-a))\n",
    "def V2(x):\n",
    "        return V_0*(x/a)**2\n",
    "def V3(x):\n",
    "        return 4*V_0*( ((a1/2**(1/6))/x)**12-((a1/2**(1/6))/x)**6 )\n",
    "def V4(x):\n",
    "        return V_0*((1-np.exp(-a*(x-x0)))**2)\n",
    "def Box(x):\n",
    "    return 100*(V_0-V_0/2*(1-np.sign(np.abs(x)-a)))\n",
    "def integrale(F,X):\n",
    "    sum=0\n",
    "    for i in range (0,len(F)-1):\n",
    "        sum+=(X[i+1]-X[i])*F[i]\n",
    "    return sum"
   ]
  },
  {
   "cell_type": "code",
   "execution_count": 3,
   "id": "07581f04-d258-429c-ae40-9845ce68ed66",
   "metadata": {},
   "outputs": [],
   "source": [
    "def dichotomie (V,x_range,Nb_passage,It_passage,zoom,E_min,dE,eps):\n",
    "    \"\"\"\n",
    "    V=potentiel\n",
    "    Nb_passage=nombre de passage effectuées\n",
    "    It_passage=nombre d'iterations effectuées à chaque passage (doit être > 4)\n",
    "    zoom=valeur de l'augmentation de precision entre chaque passage\n",
    "    E_min=valeur de depart de recherche de l'energie\n",
    "    dE=pas de depart de l'energie\n",
    "    \"\"\"\n",
    "    affiche=input(\"Afficher les solutions intermédiaires ? (y/n)\")\n",
    "    \n",
    "\n",
    "    psi_zero=np.zeros(len(x_range))\n",
    "    precision=1\n",
    "    for passage in range(0,Nb_passage):\n",
    "        E=E_min \n",
    "        Z_last=[] # contient la dernière valeur de chaque fonction d'onde (en log)\n",
    "\n",
    "        #remise à 0 de la fonction d'onde\n",
    "        psi_range = psi_zero\n",
    "        psi_range[0] = 0\n",
    "        psi_range[1] = eps\n",
    "\n",
    "        out=numerov(psi_range,x_range,V,E-2*dE,1)# -2*dE pour ne pas louper la valeur si elle est trouvée à la 1ere iteration et pour generer 2 valeurs\n",
    "        Z_last.append(np.log(abs(out[-1])))\n",
    "        out=numerov(psi_range,x_range,V,E-dE,1)\n",
    "        Z_last.append(np.log(abs(out[-1])))\n",
    "\n",
    "        for it in range(0,It_passage):\n",
    "            #remise à 0 de la fonction d'onde\n",
    "            psi_range = psi_zero\n",
    "            psi_range[0] = 0\n",
    "            psi_range[1] = eps\n",
    "\n",
    "            out=numerov(psi_range,x_range,V,E,1)\n",
    "            Z_last.append(np.log(abs(out[-1])))\n",
    "            #print(out)\n",
    "            #print(E,\"  \",E_min,\"  \",Z_last[-2],\"  \")\n",
    "            E+=dE\n",
    "        #print( \"\\n \",Z_last[np.argmin(Z_last) ])\n",
    "        E_min+=np.argmin(Z_last)*dE-3*dE\n",
    "        if affiche==\"y\":\n",
    "            print(\"Passage\",passage+1,\": \",E_min,\" Precision: \",precision)\n",
    "        dE=dE/zoom\n",
    "        precision/=zoom"
   ]
  },
  {
   "cell_type": "code",
   "execution_count": 4,
   "id": "746e7402-35e0-4a94-af17-9a782d4872fe",
   "metadata": {
    "tags": []
   },
   "outputs": [
    {
     "data": {
      "text/plain": [
       "(-6.0, 10.0)"
      ]
     },
     "execution_count": 4,
     "metadata": {},
     "output_type": "execute_result"
    },
    {
     "data": {
      "image/png": "[encoded data removed]",
      "text/plain": [
       "<Figure size 432x288 with 1 Axes>"
      ]
     },
     "metadata": {
      "needs_background": "light"
     },
     "output_type": "display_data"
    }
   ],
   "source": [
    "#CONTIENT LA PLAGE DES VALEURS DE X UTILES,LA VALEUR DE LA PREMIERE DERIVEE EN x_m, ET LE POTENTIEL. TRACE LE POTENTIEL.\n",
    "V=V1 #potentiel utilisé\n",
    "x_m=-8\n",
    "x_M=8\n",
    "dx=10**(-2)\n",
    "eps=dx*10**(-200)\n",
    "x_range = np.linspace(x_m,x_M,int((x_M-x_m)/dx))\n",
    "plt.plot(x_range,V(x_range))\n",
    "#plt.yscale('log')\n",
    "plt.ylim(-6,10)"
   ]
  },
  {
   "cell_type": "code",
   "execution_count": 5,
   "id": "e8bebcc1-7144-46c4-88c2-f48d068c66a2",
   "metadata": {},
   "outputs": [
    {
     "data": {
      "text/plain": [
       "[-4.78, -4.08, -2.98, -1.5]"
      ]
     },
     "execution_count": 5,
     "metadata": {},
     "output_type": "execute_result"
    },
    {
     "data": {
      "image/png": "[encoded data removed]",
      "text/plain": [
       "<Figure size 432x288 with 1 Axes>"
      ]
     },
     "metadata": {
      "needs_background": "light"
     },
     "output_type": "display_data"
    }
   ],
   "source": [
    "#CONTIENT LES BORNES ET LE PAS DES ENERGIES A TESTER. TRACE LA DIVERGENCE DE LA FONCTION D'ONDE EN x_M EN FONCTION DE L'ENERGIE. SORT LES MINIMAS LOCAUX DU ln DE CETTE DIVERGENCE.\n",
    "E_min=-5\n",
    "E_max=0\n",
    "dE=0.02\n",
    "N_E=int((E_max-E_min)/dE+1)\n",
    "E_range=np.linspace(E_min,E_max,N_E)\n",
    "I=[]\n",
    "Y_last=[]\n",
    "Z_last=[]\n",
    "for E in E_range:\n",
    "    psi_range = np.zeros(len(x_range))\n",
    "    psi_range[0] = 0\n",
    "    psi_range[1] = eps\n",
    "    out=numerov(psi_range,x_range,V,E,1)\n",
    "    Y_last.append(abs(out[-1]))\n",
    "    Z_last.append(np.log(abs(out[-1])))\n",
    "    #if Y_last[-1]<5*10**-6:\n",
    "        #plt.plot(x_range,out)\n",
    "        #print(E)\n",
    "#plt.plot(E_range,np.abs(Y_last))\n",
    "plt.plot(E_range,Z_last)\n",
    "E_value=[]\n",
    "for i in range (1,N_E-1):\n",
    "    if Z_last[i]<Z_last[i+1] and Z_last[i]<Z_last[i-1]:\n",
    "        E_value.append(E_range[i])\n",
    "E_value"
   ]
  },
  {
   "cell_type": "code",
   "execution_count": 6,
   "id": "7bef6deb-d8e4-4aee-b7bd-444762a14950",
   "metadata": {
    "tags": []
   },
   "outputs": [
    {
     "name": "stdin",
     "output_type": "stream",
     "text": [
      "Afficher les solutions intermédiaires ? (y/n) y\n"
     ]
    },
    {
     "name": "stdout",
     "output_type": "stream",
     "text": [
      "Passage 1 :  -2.99  Precision:  1\n",
      "Passage 2 :  -2.9850000000000003  Precision:  0.5\n",
      "Passage 3 :  -2.9825000000000004  Precision:  0.25\n",
      "Passage 4 :  -2.9800000000000004  Precision:  0.125\n",
      "Passage 5 :  -2.9800000000000004  Precision:  0.0625\n",
      "Passage 6 :  -2.9793750000000006  Precision:  0.03125\n",
      "Passage 7 :  -2.9792187500000007  Precision:  0.015625\n",
      "Passage 8 :  -2.9791406250000008  Precision:  0.0078125\n",
      "Passage 9 :  -2.9791406250000008  Precision:  0.00390625\n",
      "Passage 10 :  -2.979121093750001  Precision:  0.001953125\n",
      "Passage 11 :  -2.979101562500001  Precision:  0.0009765625\n",
      "Passage 12 :  -2.979101562500001  Precision:  0.00048828125\n",
      "Passage 13 :  -2.9790966796875007  Precision:  0.000244140625\n",
      "Passage 14 :  -2.9790966796875007  Precision:  0.0001220703125\n",
      "Passage 15 :  -2.979095458984376  Precision:  6.103515625e-05\n",
      "Passage 16 :  -2.979095153808595  Precision:  3.0517578125e-05\n",
      "Passage 17 :  -2.979095153808595  Precision:  1.52587890625e-05\n",
      "Passage 18 :  -2.9790950775146494  Precision:  7.62939453125e-06\n",
      "Passage 19 :  -2.9790950393676767  Precision:  3.814697265625e-06\n",
      "Passage 20 :  -2.979095001220704  Precision:  1.9073486328125e-06\n"
     ]
    }
   ],
   "source": [
    "#CONTIENT LES VALEURS NECCESSAIRE A LA DICHOTOMIE. EFFECTUE LE CALCUL ADEQUAT\n",
    "Nb_passage=20 #nombre de passage effectuées\n",
    "It_passage=50 #nombre d'iterations effectuées à chaque passage (doit être > 4)\n",
    "zoom=2 # valeur de l'augmentation de precision entre chaque passage\n",
    "E_min=-3 #valeur de depart de recherche de l'energie\n",
    "dE=0.01 #pas de depart de l'energie\n",
    "x_range = np.linspace(x_m,x_M,int((x_M-x_m)/dx))\n",
    "dichotomie(V,x_range,Nb_passage,It_passage,zoom,E_min,dE,eps)"
   ]
  },
  {
   "cell_type": "code",
   "execution_count": 7,
   "id": "f5f92ace-06b1-4d36-b966-50b4a7b2ffd5",
   "metadata": {},
   "outputs": [
    {
     "data": {
      "text/plain": [
       "[<matplotlib.lines.Line2D at 0x1d4b2354ca0>]"
      ]
     },
     "execution_count": 7,
     "metadata": {},
     "output_type": "execute_result"
    },
    {
     "data": {
      "image/png": "[encoded data removed]",
      "text/plain": [
       "<Figure size 432x288 with 1 Axes>"
      ]
     },
     "metadata": {
      "needs_background": "light"
     },
     "output_type": "display_data"
    }
   ],
   "source": [
    "#TRACE LA FONCTION D'ONDE POUR L'ENERGIE E_eval.\n",
    "E_eval=  -0.09511837783399561\n",
    "psi_range=np.zeros(int((x_M-x_m)/dx))\n",
    "psi_range[0] = 0\n",
    "psi_range[1] = eps\n",
    "out=numerov(psi_range,x_range,V,E_eval,1)\n",
    "plt.plot(x_range,out)"
   ]
  },
  {
   "cell_type": "code",
   "execution_count": null,
   "id": "fb995f41-b491-477d-be37-9a9814665957",
   "metadata": {},
   "outputs": [],
   "source": []
  },
  {
   "cell_type": "code",
   "execution_count": null,
   "id": "5b933a5b-bc57-4dac-a9ff-5d29101d7e65",
   "metadata": {},
   "outputs": [],
   "source": []
  }
 ],
 "metadata": {
  "kernelspec": {
   "display_name": "Python 3 (ipykernel)",
   "language": "python",
   "name": "python3"
  },
  "language_info": {
   "codemirror_mode": {
    "name": "ipython",
    "version": 3
   },
   "file_extension": ".py",
   "mimetype": "text/x-python",
   "name": "python",
   "nbconvert_exporter": "python",
   "pygments_lexer": "ipython3",
   "version": "3.9.7"
  }
 },
 "nbformat": 4,
 "nbformat_minor": 5
}
