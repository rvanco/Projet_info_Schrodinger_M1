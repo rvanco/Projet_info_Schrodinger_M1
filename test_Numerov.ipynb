{
 "cells": [
  {
   "cell_type": "code",
   "execution_count": 1,
   "id": "c8a8d002-0a0b-4b9e-941f-bfc6cc7f7e95",
   "metadata": {},
   "outputs": [],
   "source": [
    "import numpy as np\n",
    "from matplotlib import pyplot as plt\n",
    "import types"
   ]
  },
  {
   "cell_type": "code",
   "execution_count": 2,
   "id": "2cceb7a9-15f1-4983-9032-a1e42b605ce7",
   "metadata": {},
   "outputs": [],
   "source": [
    "#CI :\n",
    "x_m , x_M = -10 , 10  #limites du domaine d'intégration\n",
    "psi_x_m , psi_x_M = 0 , 0  #valeurs de la fonction d'onde aux limites\n",
    "\n",
    "#potentiel\n",
    "V_0 = 5\n",
    "a = 2\n",
    "def V (x):\n",
    "    #square well\n",
    "    return -V_0/2*(1-np.sign(np.abs(x)-a))\n",
    "\n",
    "\n",
    "b = 2\n",
    "def V_2 (x):\n",
    "    #quadratic well\n",
    "    return V_0/2*((x/b)**2-1)*(1-np.sign(np.abs(x)-b))\n",
    "\n",
    "#params d'intégration\n",
    "dx = 0.01\n",
    "eps = 10**(-7)\n",
    "\n"
   ]
  },
  {
   "cell_type": "markdown",
   "id": "97818ac9-feec-46c5-a543-7ff3a5cd39c2",
   "metadata": {},
   "source": [
    "# Numerov droite-gauche"
   ]
  },
  {
   "cell_type": "code",
   "execution_count": 3,
   "id": "51712b3f-057c-4cf7-b1f4-e6304c3f5748",
   "metadata": {},
   "outputs": [],
   "source": [
    "def numerov(psi_range,x_range,V,E,direction):\n",
    "    \"\"\"psi_range = array contenant les psi_i avec les valeurs aux bords déjà mises en place \n",
    "    x_range = array contenant les x\n",
    "    V = fonction jouant le role de potentiel\n",
    "    E = energie à tester\n",
    "    direction -> 1 = gauche/droite  -1=droite/gauche\"\"\"\n",
    "    \n",
    "    #création de variables utiles\n",
    "    Q = lambda x : 2*(E-V(x))\n",
    "    h = x_range[1]-x_range[0]  \n",
    "    psi_out = psi_range.copy()\n",
    "    \n",
    "    #réalisation de l'intégration de Numerov\n",
    "    if direction == 1 :\n",
    "        for i in range(2,len(psi_range)):\n",
    "            psi_out[i] = (2*(1-5/12*h**2*Q(x_range[i-1]))*psi_out[i-1]-(1+1/12*h**2*Q(x_range[i-2]))*psi_out[i-2])/(1+1/12*h**2*Q(x_range[i]))\n",
    "    if direction == -1 :\n",
    "        for i in range(len(psi_range)-3,-1,-1):\n",
    "            psi_out[i] = (2*(1-5/12*h**2*Q(x_range[i+1]))*psi_out[i+1]-(1+1/12*h**2*Q(x_range[i+2]))*psi_out[i+2])/(1+1/12*h**2*Q(x_range[i]))\n",
    "    \n",
    "    return psi_out"
   ]
  },
  {
   "cell_type": "code",
   "execution_count": 4,
   "id": "83442c27-028a-4ea1-8c6d-a46595f8d6c2",
   "metadata": {},
   "outputs": [
    {
     "data": {
      "text/plain": [
       "[<matplotlib.lines.Line2D at 0x265430116d0>]"
      ]
     },
     "execution_count": 4,
     "metadata": {},
     "output_type": "execute_result"
    },
    {
     "data": {
      "image/png": "[encoded data removed]",
      "text/plain": [
       "<Figure size 432x288 with 1 Axes>"
      ]
     },
     "metadata": {
      "needs_background": "light"
     },
     "output_type": "display_data"
    }
   ],
   "source": [
    "x_range = np.linspace(x_m,x_M,int((x_M-x_m)/dx))\n",
    "\n",
    "psi_range = np.zeros(int((x_M-x_m)/dx))\n",
    "#mise en place des conditions aux bords\n",
    "psi_range[0] = psi_x_m\n",
    "psi_range[1] = psi_x_m + eps\n",
    "psi_range[-1] = psi_x_M\n",
    "psi_range[-2] = psi_x_M + eps\n",
    "\n",
    "#variables pour l'affichage\n",
    "temp = -1\n",
    "normalisation = 80000\n",
    "\n",
    "#plot le potentiel\n",
    "plt.plot(x_range[0:temp],V(x_range[0:temp]))\n",
    "\n",
    "#E = -2.9786753325\n",
    "E = -4.770734932405\n",
    "#E = - 4.77073493\n",
    "\n",
    "\n",
    "#plot l'intégration de gauche à droite\n",
    "out = numerov(psi_range,x_range,V,E,1)\n",
    "plt.plot(x_range[0:temp],out[0:temp]/normalisation)\n",
    "\n",
    "#plot l'intégration de droite à gauche\n",
    "out_2 = numerov(psi_range,x_range,V,E,-1)\n",
    "plt.plot(x_range[0:temp],out_2[0:temp]/normalisation)\n",
    "#plt.xlim(-5,5)\n",
    "#plt.ylim(0,0.2)\n",
    "#plt.yscale('log')"
   ]
  },
  {
   "cell_type": "code",
   "execution_count": 5,
   "id": "7cf00325-8d56-4759-975a-92b8acca32be",
   "metadata": {},
   "outputs": [
    {
     "data": {
      "text/plain": [
       "array([18150.44345551, 18720.13561437, 19307.70883256, 19913.72434703,\n",
       "       20538.76101038, 21183.4158438 , 21848.30460733, 22534.062388  ,\n",
       "       23241.34420648, 23970.8256427 , 24723.20348119, 25499.19637663,\n",
       "       26299.54554024, 27125.01544785, 27976.39457004, 28854.49612531,\n",
       "       29760.15885685, 30694.24783365, 31657.65527684, 32651.30141189,\n",
       "       33676.1353476 , 34733.13598268, 35823.31294073, 36947.70753468,\n",
       "       38107.39376135, 39303.47932738, 40537.10670723, 41809.45423448,\n",
       "       43121.73722733, 44475.20914947, 45871.16280732, 47310.93158494,\n",
       "       48795.8907176 , 50327.45860541, 51907.09816813, 53536.31824251,\n",
       "       55216.67502354, 56949.77355082, 58737.26924171, 60580.86947256,\n",
       "       62482.33520951, 64443.48269057, 66466.1851604 , 68552.37465967,\n",
       "       70704.04387041, 72923.24801945, 75212.1068415 , 77572.80660385,\n",
       "       80007.60219468, 82518.81927687])"
      ]
     },
     "execution_count": 5,
     "metadata": {},
     "output_type": "execute_result"
    }
   ],
   "source": [
    "out[-51:-1]"
   ]
  },
  {
   "cell_type": "markdown",
   "id": "66801130-e51b-49f8-b0f4-72d20b33a79c",
   "metadata": {
    "tags": []
   },
   "source": [
    "# Check de la dérivée logarithmique au mid-point"
   ]
  },
  {
   "cell_type": "code",
   "execution_count": 197,
   "id": "c08bd8b3-8e34-4002-a428-d25cedf06397",
   "metadata": {},
   "outputs": [],
   "source": [
    "def Do_mid_point (psi_range,x_range,V,E,N_x_c):\n",
    "    \"\"\"psi_range = array contenant les psi_i avec les valeurs aux bords déjà mises en place \n",
    "    x_range = array contenant les x\n",
    "    V = fonction jouant le role de potentiel\n",
    "    E = energie à tester\n",
    "    N_x_c = indice du mid-point\"\"\"\n",
    "    \n",
    "    h = x_range[1]-x_range[0]\n",
    "    \n",
    "    #découpage des ranges au mid-point\n",
    "    x_left = x_range.copy()[0:N_x_c+1]\n",
    "    x_right = x_range.copy()[N_x_c:] \n",
    "    \n",
    "    psi_left = psi_range.copy()[0:N_x_c+1]\n",
    "    psi_right = psi_range.copy()[N_x_c:]\n",
    "    \n",
    "    \n",
    "    #réalisation des intégrations de numerov\n",
    "    psi_left = numerov(psi_left,x_left,V,E,1)\n",
    "    psi_right = numerov(psi_right,x_right,V,E,-1)\n",
    "    \n",
    "    #gestion du cas où x_c est proche d'un noeud :\n",
    "    seuil = 10**-1\n",
    "    test_1 = -seuil < (psi_left[-1]*h)/(psi_left[-1]-psi_left[-2]) < seuil\n",
    "    test_2 = -seuil < (psi_right[0]*h)/(psi_right[1]-psi_right[0]) < seuil\n",
    "    converged = False\n",
    "    for i in range(int(len(x_range)/50)):\n",
    "        #print(len(psi_left))\n",
    "        if test_1 or test_2 :\n",
    "            psi_left = np.concatenate((psi_left[0:-2],numerov(np.concatenate((psi_left[len(psi_left)-2:len(psi_left)],np.zeros(1))),x_range[N_x_c:N_x_c+3],V,E,1)))\n",
    "            psi_right = psi_right[1:]\n",
    "        else :    \n",
    "            converged = True\n",
    "            break\n",
    "        test_1 = -seuil < (psi_left[-1]*h)/(psi_left[-1]-psi_left[-2]) < seuil\n",
    "        test_2 = -seuil < (psi_right[0]*h)/(psi_right[1]-psi_right[0]) < seuil\n",
    "    if not converged :\n",
    "        pass\n",
    "        print(\"In Do_mid_point : matching error cannot be evaluated for E= \",E,\"and N_x_c = \",N_x_c)    \n",
    "            \n",
    "            \n",
    "    #raccordement des deux morceaux :\n",
    "    psi_out = np.concatenate((psi_left[0:-1],psi_right*((psi_left[-1])/(psi_right[0]))))\n",
    "    \n",
    "    #évaluation de l'erreur du raccord en x_c\n",
    "    log_error = 2*(psi_left[-1]-psi_left[-2])/((psi_left[-1])*h) - 2*(psi_right[1]-psi_right[0])/((psi_right[0])*h)\n",
    "\n",
    "    N = 0\n",
    "    \n",
    "    for i in range(1,len(psi_out)) :\n",
    "        if (psi_out[i]*psi_out[i-1] < 0):\n",
    "            N += 1\n",
    "    \n",
    "    return log_error, N , psi_out"
   ]
  },
  {
   "cell_type": "code",
   "execution_count": 233,
   "id": "f00f684b-4b18-4f8e-bd72-aea4ab2cfa58",
   "metadata": {},
   "outputs": [
    {
     "name": "stdout",
     "output_type": "stream",
     "text": [
      "log_error : 6.609650065290094e-06 | N : 0\n"
     ]
    },
    {
     "data": {
      "text/plain": [
       "[<matplotlib.lines.Line2D at 0x2654982a700>]"
      ]
     },
     "execution_count": 233,
     "metadata": {},
     "output_type": "execute_result"
    },
    {
     "data": {
      "image/png": "[encoded data removed]",
      "text/plain": [
       "<Figure size 432x288 with 1 Axes>"
      ]
     },
     "metadata": {
      "needs_background": "light"
     },
     "output_type": "display_data"
    }
   ],
   "source": [
    "x_range = np.linspace(x_m,x_M,int((x_M-x_m)/dx))\n",
    "\n",
    "psi_range = np.zeros(int((x_M-x_m)/dx))\n",
    "psi_range[0] = psi_x_m\n",
    "psi_range[1] = psi_x_m + eps\n",
    "psi_range[-1] = psi_x_M\n",
    "psi_range[-2] = psi_x_M + eps\n",
    "\n",
    "N_x_c = int(len(psi_range)/2)\n",
    "\n",
    "#E=-4.085370741482966\n",
    "#E = -2.9786753325\n",
    "#E = -1.1\n",
    "E = -4.769745788811775\n",
    "log_error , N , psi_out = Do_mid_point(psi_range,x_range,V,E,N_x_c)\n",
    "print(\"log_error :\" ,log_error,\"| N :\",N)\n",
    "#plt.figure(figsize=(10,15))\n",
    "plt.plot(x_range,psi_out)"
   ]
  },
  {
   "cell_type": "code",
   "execution_count": 206,
   "id": "38b1816d-049e-4e7e-809e-2cc32d199942",
   "metadata": {},
   "outputs": [
    {
     "data": {
      "image/png": "[encoded data removed]",
      "text/plain": [
       "<Figure size 432x288 with 1 Axes>"
      ]
     },
     "metadata": {
      "needs_background": "light"
     },
     "output_type": "display_data"
    }
   ],
   "source": [
    "#analyse du comportement de N\n",
    "x_range = np.linspace(x_m,x_M,int((x_M-x_m)/dx))\n",
    "\n",
    "psi_range = np.zeros(int((x_M-x_m)/dx))\n",
    "psi_range[0] = psi_x_m\n",
    "psi_range[1] = psi_x_m + eps\n",
    "psi_range[-1] = psi_x_M\n",
    "psi_range[-2] = psi_x_M + eps\n",
    "\n",
    "k=5*10**2\n",
    "\n",
    "N_x_c = int(len(psi_range)/2)\n",
    "E_arr = np.linspace(-V_0,0,k)\n",
    "N_arr = np.zeros(len(E_arr))\n",
    "err_arr = np.zeros(len(E_arr))\n",
    "\n",
    "for i in range(len(E_arr)):\n",
    "    err_arr[i] , N_arr[i] , psi_out = Do_mid_point(psi_range,x_range,V,E_arr[i],N_x_c)\n",
    "    \n",
    "#plt.plot(E_arr,N_arr)\n",
    "plt.plot(E_arr,np.abs(err_arr))\n",
    "plt.yscale('log')"
   ]
  },
  {
   "cell_type": "code",
   "execution_count": 183,
   "id": "b611b0cb-4440-415d-8ee7-82916670d802",
   "metadata": {},
   "outputs": [
    {
     "data": {
      "text/plain": [
       "-4.0853306613226446"
      ]
     },
     "execution_count": 183,
     "metadata": {},
     "output_type": "execute_result"
    }
   ],
   "source": [
    "E_arr[np.argmin(np.abs(err_arr))]"
   ]
  },
  {
   "cell_type": "markdown",
   "id": "55fc00b2-8ae5-4a49-b856-4e422198c5a8",
   "metadata": {},
   "source": [
    "## Recherche dénergie"
   ]
  },
  {
   "cell_type": "code",
   "execution_count": 202,
   "id": "50cfd5cb-4552-4274-b3bd-de7e73e8e94d",
   "metadata": {},
   "outputs": [],
   "source": [
    "def find_change(E_arr,N_arr):\n",
    "    #find where and how much the nodes (N_arr) changes w.r.t E_arr\n",
    "    data = []\n",
    "    for i in range(0,len(E_arr)-1) :\n",
    "        if N_arr[i+1]-N_arr[i] > 0 :\n",
    "            data.append((i,N_arr[i+1]-N_arr[i]))\n",
    "    return data"
   ]
  },
  {
   "cell_type": "code",
   "execution_count": 203,
   "id": "3e52e949-8c4c-4cc2-aa02-80fd43a641ea",
   "metadata": {},
   "outputs": [
    {
     "data": {
      "text/plain": [
       "[(25, 1.0), (100, 1.0), (223, 1.0), (390, 1.0)]"
      ]
     },
     "execution_count": 203,
     "metadata": {},
     "output_type": "execute_result"
    }
   ],
   "source": [
    "find_change(E_arr,N_arr)"
   ]
  },
  {
   "cell_type": "code",
   "execution_count": 204,
   "id": "5bca5476-e933-45e8-960d-4ea08fcdda37",
   "metadata": {},
   "outputs": [],
   "source": [
    "def slice_E_arr(psi_range,x_range,V,E_arr,N_x_c,slices,temp_slices,remove_borders = False):\n",
    "    N_arr = np.zeros(len(E_arr))\n",
    "    for i in range(len(E_arr)):\n",
    "        log_error , N_arr[i] , psi_out = Do_mid_point(psi_range,x_range,V,E_arr[i],N_x_c)\n",
    "    E_crit = find_change(E_arr,N_arr)\n",
    "    \n",
    "    if (not remove_borders):\n",
    "        slices.append(( [ E_arr[0] , E_arr[E_crit[0][0]+2] ] ,N_arr[E_crit[0][0]]))\n",
    "        if E_crit[0][1] > 1 :\n",
    "            temp_slices.append([ E_arr[E_crit[0][0]] , E_arr[E_crit[0][0]+2] ])\n",
    "    \n",
    "    for i in range(1,len(E_crit)) :\n",
    "        slices.append(( [ E_arr[E_crit[i-1][0]] , E_arr[E_crit[i][0]+2] ] ,N_arr[E_crit[i][0]]))\n",
    "        if E_crit[i][1] > 1 :\n",
    "            temp_slices.append([ E_arr[E_crit[i][0]] , E_arr[E_crit[i][0]+2] ])\n",
    "\n",
    "    if (not remove_borders):\n",
    "        slices.append(( [ E_arr[E_crit[-1][0]] , E_arr[-1]],N_arr[-1]))"
   ]
  },
  {
   "cell_type": "code",
   "execution_count": 228,
   "id": "bab6e476-5d58-4791-8d6c-8d63275cfd5e",
   "metadata": {},
   "outputs": [
    {
     "data": {
      "text/plain": [
       "[([-5.0, -4.148296593186373], 0.0),\n",
       " ([-4.168336673346693, -3.987975951903808], 1.0),\n",
       " ([-4.008016032064129, -1.7535070140280564], 2.0),\n",
       " ([-1.7735470941883769, -1.1923847695390783], 3.0),\n",
       " ([-1.2124248496993988, 0.0], 4.0)]"
      ]
     },
     "execution_count": 228,
     "metadata": {},
     "output_type": "execute_result"
    }
   ],
   "source": [
    "slices = []\n",
    "temp_slices = []\n",
    "slice_E_arr(psi_range,x_range,V,E_arr,N_x_c,slices,temp_slices)\n",
    "slices"
   ]
  },
  {
   "cell_type": "code",
   "execution_count": 240,
   "id": "8d65aa91-613d-4dd2-94aa-8a3452533c2c",
   "metadata": {},
   "outputs": [],
   "source": [
    "def find_E_N(psi_range,x_range,V,E_min,E_max,N_x_c,N,err=10**-2):\n",
    "    k = 100\n",
    "    err_arr = np.zeros(k)\n",
    "    N_arr = np.zeros(k)\n",
    "    E_m = E_min\n",
    "    E_M = E_max\n",
    "    E_guess = E_min\n",
    "    while (np.abs(E_m - E_M) > err):\n",
    "        E_arr = np.linspace(E_m,E_M,k)\n",
    "        for i in range(k):\n",
    "            err_arr[i] , N_arr[i] , psi_out = Do_mid_point(psi_range,x_range,V,E_arr[i],N_x_c)\n",
    "            \n",
    "        n_E_guess = np.argmin(np.abs(err_arr))\n",
    "        \n",
    "        if N_arr[n_E_guess] == N :\n",
    "            E_guess = E_arr[n_E_guess]\n",
    "            E_m = E_arr[np.max([n_E_guess-1,0])]\n",
    "            E_M = E_arr[np.min([n_E_guess+1,k-1])]\n",
    "        else :\n",
    "            print(\"nop\")\n",
    "    return E_guess"
   ]
  },
  {
   "cell_type": "code",
   "execution_count": 232,
   "id": "a529bcf4-04ff-470e-ac4b-f650e894f28b",
   "metadata": {},
   "outputs": [
    {
     "name": "stdout",
     "output_type": "stream",
     "text": [
      "-0.8517034068136269\n",
      "-0.017206129430578976\n",
      "-0.000347598574355068\n"
     ]
    },
    {
     "data": {
      "text/plain": [
       "-4.769745788811775"
      ]
     },
     "execution_count": 232,
     "metadata": {},
     "output_type": "execute_result"
    }
   ],
   "source": [
    "E = find_E_N(psi_range,x_range,V,slices[0][0][0],slices[0][0][1],N_x_c,slices[0][1],err=10**-4)\n",
    "E"
   ]
  },
  {
   "cell_type": "code",
   "execution_count": 254,
   "id": "fabc8cf5-ad89-4a75-8092-41a29e800ffe",
   "metadata": {},
   "outputs": [],
   "source": [
    "def resolution(V,E_min,E_max,x_m,x_M,N_x_c=-1,dx=-1,eps=10**-5,err=10**-3):\n",
    "    ##--------------------------------------------------------------\n",
    "    #checking the validity of the arguments\n",
    "    args_ok = isinstance(V, types.FunctionType) and (E_min < E_max) and (x_m < x_M)\n",
    "    if (not args_ok) :\n",
    "        print('arguments are not valid')\n",
    "        return 0\n",
    "    \n",
    "    \n",
    "    ##--------------------------------------------------------------\n",
    "    #creation of the initialisations sets.\n",
    "    if dx == -1 : dx = (x_M-x_m)/100\n",
    "    \n",
    "    x_range = np.linspace(x_m,x_M,int((x_M-x_m)/dx))\n",
    "\n",
    "    psi_range = np.zeros(int((x_M-x_m)/dx))\n",
    "    psi_range[0] = psi_x_m\n",
    "    psi_range[1] = psi_x_m + eps\n",
    "    psi_range[-1] = psi_x_M\n",
    "    psi_range[-2] = psi_x_M + eps\n",
    "    \n",
    "    if N_x_c == -1 : N_x_c = int(len(psi_range)/2)\n",
    "    \n",
    "    \n",
    "    ##--------------------------------------------------------------\n",
    "    #slicing [E_min,E_max] in arrays with constant number of nodes.\n",
    "    \n",
    "    slices = [] #array containing (slice,N in slice)\n",
    "    temp_slices = [] #array containing the slices that still needs to be processed\n",
    "    \n",
    "    #first search of energy where the number of nodes changes  \n",
    "    k=10**1 #number of test points for the first search\n",
    "    E_arr = np.linspace(E_min,E_max,k)\n",
    "    \n",
    "    slice_E_arr(psi_range,x_range,V,E_arr,N_x_c,slices,temp_slices)\n",
    "    \n",
    "    while (len(temp_slices) != 0):\n",
    "        for slc in temp_slices:\n",
    "            E_arr = np.linspace(slc[0],slc[-1],k)\n",
    "            temp_slices.pop(0)\n",
    "            slice_E_arr(psi_range,x_range,V,E_arr,N_x_c,slices,temp_slices,remove_borders = True)\n",
    "    \n",
    "    ##--------------------------------------------------------------\n",
    "    #retrieving the Energie minimizing the log_error for each slice\n",
    "    E_sol = []\n",
    "    for slc in slices :\n",
    "        E_sol.append(find_E_N(psi_range,x_range,V,slc[0][0],slc[0][1],N_x_c,slc[1],err=err))\n",
    "    #formating the output\n",
    "    for i in range(len(E_sol)):\n",
    "        \n",
    "    return "
   ]
  },
  {
   "cell_type": "code",
   "execution_count": 255,
   "id": "a1811585-e47c-4ce7-a443-b009f7c5387b",
   "metadata": {},
   "outputs": [
    {
     "data": {
      "text/plain": [
       "array([[-4.7697428 ,  0.        ],\n",
       "       [-2.97026312,  2.        ],\n",
       "       [-1.50119705,  3.        ],\n",
       "       [ 0.        ,  4.        ],\n",
       "       [-4.08916641,  1.        ]])"
      ]
     },
     "execution_count": 255,
     "metadata": {},
     "output_type": "execute_result"
    }
   ],
   "source": [
    "resolution(V,-V_0,0,x_m,x_M,N_x_c=-1,dx=10**-2,eps=10**-7,err=10**-4)"
   ]
  },
  {
   "cell_type": "code",
   "execution_count": null,
   "id": "10907b29-2d39-464b-ba9b-b254d81b4c75",
   "metadata": {},
   "outputs": [],
   "source": []
  }
 ],
 "metadata": {
  "kernelspec": {
   "display_name": "Python 3",
   "language": "python",
   "name": "python3"
  },
  "language_info": {
   "codemirror_mode": {
    "name": "ipython",
    "version": 3
   },
   "file_extension": ".py",
   "mimetype": "text/x-python",
   "name": "python",
   "nbconvert_exporter": "python",
   "pygments_lexer": "ipython3",
   "version": "3.8.8"
  }
 },
 "nbformat": 4,
 "nbformat_minor": 5
}
