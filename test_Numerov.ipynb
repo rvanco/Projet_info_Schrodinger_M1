{
 "cells": [
  {
   "cell_type": "code",
   "execution_count": 1,
   "id": "c8a8d002-0a0b-4b9e-941f-bfc6cc7f7e95",
   "metadata": {},
   "outputs": [],
   "source": [
    "import numpy as np\n",
    "from matplotlib import pyplot as plt"
   ]
  },
  {
   "cell_type": "code",
   "execution_count": 2,
   "id": "2cceb7a9-15f1-4983-9032-a1e42b605ce7",
   "metadata": {},
   "outputs": [],
   "source": [
    "#CI :\n",
    "x_m , x_M = -10 , 10  #limites du domaine d'intégration\n",
    "psi_x_m , psi_x_M = 0 , 0  #valeurs de la fonction d'onde aux limites\n",
    "\n",
    "#potentiel\n",
    "V_0 = 5\n",
    "a = 2\n",
    "def V (x):\n",
    "    #square well\n",
    "    return -V_0/2*(1-np.sign(np.abs(x)-a))\n",
    "\n",
    "#params d'intégration\n",
    "dx = 0.01\n",
    "eps = 0.0000001\n",
    "\n"
   ]
  },
  {
   "cell_type": "markdown",
   "id": "97818ac9-feec-46c5-a543-7ff3a5cd39c2",
   "metadata": {},
   "source": [
    "# Numerov droite-gauche"
   ]
  },
  {
   "cell_type": "code",
   "execution_count": 3,
   "id": "51712b3f-057c-4cf7-b1f4-e6304c3f5748",
   "metadata": {},
   "outputs": [],
   "source": [
    "def numerov(psi_range,x_range,V,E,direction):\n",
    "    \"\"\"psi_range = array contenant les psi_i avec les valeurs aux bords déjà mises en place \n",
    "    x_range = array contenant les x\n",
    "    V = fonction jouant le role de potentiel\n",
    "    E = energie à tester\n",
    "    direction -> 1 = gauche/droite  -1=droite/gauche\"\"\"\n",
    "    \n",
    "    #création de variables utiles\n",
    "    Q = lambda x : 2*(E-V(x))\n",
    "    h = x_range[1]-x_range[0]  \n",
    "    psi_out = psi_range.copy()\n",
    "    \n",
    "    #réalisation de l'intégration de Numerov\n",
    "    if direction == 1 :\n",
    "        for i in range(2,len(psi_range)):\n",
    "            psi_out[i] = (2*(1-5/12*h**2*Q(x_range[i-1]))*psi_out[i-1]-(1+1/12*h**2*Q(x_range[i-2]))*psi_out[i-2])/(1+1/12*h**2*Q(x_range[i]))\n",
    "    if direction == -1 :\n",
    "        for i in range(len(psi_range)-3,-1,-1):\n",
    "            psi_out[i] = (2*(1-5/12*h**2*Q(x_range[i+1]))*psi_out[i+1]-(1+1/12*h**2*Q(x_range[i+2]))*psi_out[i+2])/(1+1/12*h**2*Q(x_range[i]))\n",
    "    \n",
    "    return psi_out"
   ]
  },
  {
   "cell_type": "code",
   "execution_count": 4,
   "id": "83442c27-028a-4ea1-8c6d-a46595f8d6c2",
   "metadata": {},
   "outputs": [
    {
     "data": {
      "text/plain": [
       "[<matplotlib.lines.Line2D at 0x2e39c07b310>]"
      ]
     },
     "execution_count": 4,
     "metadata": {},
     "output_type": "execute_result"
    },
    {
     "data": {
      "image/png": "[encoded data removed]",
      "text/plain": [
       "<Figure size 432x288 with 1 Axes>"
      ]
     },
     "metadata": {
      "needs_background": "light"
     },
     "output_type": "display_data"
    }
   ],
   "source": [
    "x_range = np.linspace(x_m,x_M,int((x_M-x_m)/dx))\n",
    "\n",
    "psi_range = np.zeros(int((x_M-x_m)/dx))\n",
    "#mise en place des conditions aux bords\n",
    "psi_range[0] = psi_x_m\n",
    "psi_range[1] = psi_x_m + eps\n",
    "psi_range[-1] = psi_x_M\n",
    "psi_range[-2] = psi_x_M + eps\n",
    "\n",
    "#variables pour l'affichage\n",
    "temp = -1\n",
    "normalisation = 80000\n",
    "\n",
    "#plot le potentiel\n",
    "plt.plot(x_range[0:temp],V(x_range[0:temp]))\n",
    "\n",
    "#E = -2.9786753325\n",
    "E = - 4.770734932405\n",
    "\n",
    "#plot l'intégration de gauche à droite\n",
    "out = numerov(psi_range,x_range,V,E,1)\n",
    "plt.plot(x_range[0:temp],out[0:temp]/normalisation)\n",
    "\n",
    "#plot l'intégration de droite à gauche\n",
    "out_2 = numerov(psi_range,x_range,V,E,-1)\n",
    "plt.plot(x_range[0:temp],out_2[0:temp]/normalisation)"
   ]
  },
  {
   "cell_type": "markdown",
   "id": "66801130-e51b-49f8-b0f4-72d20b33a79c",
   "metadata": {
    "tags": []
   },
   "source": [
    "# Check de la dérivée logarithmique au mid-point"
   ]
  },
  {
   "cell_type": "code",
   "execution_count": 321,
   "id": "c08bd8b3-8e34-4002-a428-d25cedf06397",
   "metadata": {},
   "outputs": [],
   "source": [
    "def Do_mid_point (psi_range,x_range,V,E,N_x_c):\n",
    "    \"\"\"psi_range = array contenant les psi_i avec les valeurs aux bords déjà mises en place \n",
    "    x_range = array contenant les x\n",
    "    V = fonction jouant le role de potentiel\n",
    "    E = energie à tester\n",
    "    N_x_c = indice du mid-point\"\"\"\n",
    "    \n",
    "    h = x_range[1]-x_range[0]\n",
    "    \n",
    "    #découpage des ranges au mid-point\n",
    "    x_left = x_range.copy()[0:N_x_c+1]\n",
    "    x_right = x_range.copy()[N_x_c:] \n",
    "    \n",
    "    psi_left = psi_range.copy()[0:N_x_c+1]\n",
    "    psi_right = psi_range.copy()[N_x_c:]\n",
    "    \n",
    "    \n",
    "    #réalisation des intégrations de numerov\n",
    "    psi_left = numerov(psi_left,x_left,V,E,1)\n",
    "    psi_right = numerov(psi_right,x_right,V,E,-1)\n",
    "    \n",
    "    #raccordement des deux morceaux :\n",
    "    psi_out = np.concatenate((psi_left[0:-1],psi_right*(psi_left[-1]/psi_right[0])))\n",
    "    \n",
    "    #évaluation de l'erreur du raccord en x_c\n",
    "    log_error = (psi_left[-1]-psi_left[-2])/(psi_left[-1]*h) - (psi_right[1]-psi_right[0])/(psi_right[0]*h)\n",
    "\n",
    "    N = 0\n",
    "    \n",
    "    for i in range(1,len(psi_out)) :\n",
    "        if (psi_out[i]*psi_out[i-1] < 0):\n",
    "            N += 1\n",
    "    \n",
    "    return log_error, N , psi_out"
   ]
  },
  {
   "cell_type": "code",
   "execution_count": 324,
   "id": "f00f684b-4b18-4f8e-bd72-aea4ab2cfa58",
   "metadata": {},
   "outputs": [
    {
     "name": "stdout",
     "output_type": "stream",
     "text": [
      "log_error : 0.04044535443988203  N :  2\n"
     ]
    },
    {
     "data": {
      "text/plain": [
       "[<matplotlib.lines.Line2D at 0x2127de614f0>]"
      ]
     },
     "execution_count": 324,
     "metadata": {},
     "output_type": "execute_result"
    },
    {
     "data": {
      "image/png": "[encoded data removed]",
      "text/plain": [
       "<Figure size 432x288 with 1 Axes>"
      ]
     },
     "metadata": {
      "needs_background": "light"
     },
     "output_type": "display_data"
    }
   ],
   "source": [
    "x_range = np.linspace(x_m,x_M,int((x_M-x_m)/dx))\n",
    "\n",
    "psi_range = np.zeros(int((x_M-x_m)/dx))\n",
    "psi_range[0] = psi_x_m\n",
    "psi_range[1] = psi_x_m + eps\n",
    "psi_range[-1] = psi_x_M\n",
    "psi_range[-2] = psi_x_M + eps\n",
    "\n",
    "N_x_c = int(len(psi_range)/2)\n",
    "E = -2.9786753325\n",
    "#E = - 4.770734932405\n",
    "log_error , N , psi_out = Do_mid_point(psi_range,x_range,V,E,N_x_c)\n",
    "print(\"log_error :\" ,log_error,\" N : \",N)\n",
    "plt.plot(x_range,psi_out)"
   ]
  },
  {
   "cell_type": "code",
   "execution_count": null,
   "id": "7dce0828-b1b1-4d1d-a106-70a17eac5b8f",
   "metadata": {},
   "outputs": [],
   "source": []
  }
 ],
 "metadata": {
  "kernelspec": {
   "display_name": "Python 3 (ipykernel)",
   "language": "python",
   "name": "python3"
  },
  "language_info": {
   "codemirror_mode": {
    "name": "ipython",
    "version": 3
   },
   "file_extension": ".py",
   "mimetype": "text/x-python",
   "name": "python",
   "nbconvert_exporter": "python",
   "pygments_lexer": "ipython3",
   "version": "3.9.7"
  }
 },
 "nbformat": 4,
 "nbformat_minor": 5
}
