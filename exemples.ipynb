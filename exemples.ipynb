{
 "cells": [
  {
   "cell_type": "code",
   "execution_count": 1,
   "id": "3be0be6f-0da1-4c22-9dbb-f23e07a3726c",
   "metadata": {},
   "outputs": [],
   "source": [
    "from Schrodinger import *"
   ]
  },
  {
   "cell_type": "code",
   "execution_count": 2,
   "id": "dbbe4988-a391-445a-8b8b-ae0b350d9ffe",
   "metadata": {},
   "outputs": [],
   "source": [
    "#CI :\n",
    "x_m , x_M = -10 , 10  #limites du domaine d'intégration\n",
    "\n",
    "#potentiel\n",
    "V_0 = 5\n",
    "a = 2\n",
    "def V (x):\n",
    "    #square well\n",
    "    return -V_0/2*(1-np.sign(np.abs(x)-a))\n",
    "\n",
    "\n",
    "b = 2\n",
    "def V_2 (x):\n",
    "    #quadratic well\n",
    "    return V_0/2*((x/b)**2-1)*(1-np.sign(np.abs(x)-b))\n",
    "\n",
    "def Lennard_Jones(x):\n",
    "    return - 4*V_0*( (1/x)**6 - (1/x)**12)  # careful, V_0 needs to be positive.\n",
    "\n",
    "def Lennard_Jones_lambda(a_1,a_2):\n",
    "    return lambda x : - 4*V_0*( (a_1/x)**6 - (a_2/x)**12)\n",
    "\n",
    "def Lennard_Jones_bis(x):\n",
    "    return 102*(4343/x**12 - 650/x**6) +33/x**2\n",
    "\n",
    "#params d'intégration\n",
    "dx = 0.01\n",
    "eps = 10**(-7)"
   ]
  },
  {
   "cell_type": "code",
   "execution_count": null,
   "id": "9627db84-f6ce-487b-b81d-c5a9a3bbba59",
   "metadata": {},
   "outputs": [
    {
     "name": "stdout",
     "output_type": "stream",
     "text": [
      "Creation of initial sets\n",
      "Mid-point matching set at : x = 10.0\n",
      "\n",
      "-Finding energy ranges with fix number of nodes :\n",
      "Number of ranges found so far : 7\n",
      "\n",
      "-Performing dichotomy on each energy ranges to find solutions :\n"
     ]
    },
    {
     "data": {
      "application/vnd.jupyter.widget-view+json": {
       "model_id": "e195b662919f49e78cc273c9812d08d4",
       "version_major": 2,
       "version_minor": 0
      },
      "text/plain": [
       "  0%|          | 0/7 [00:00<?, ?it/s]"
      ]
     },
     "metadata": {},
     "output_type": "display_data"
    }
   ],
   "source": [
    "resolution(Lennard_Jones_lambda(1/1.12*10,1/1.12*10),-V_0,-0.01,5,40,x_c=10,dx=10**-2,eps=10**-7,err=10**-10)"
   ]
  },
  {
   "cell_type": "code",
   "execution_count": null,
   "id": "1d6cfc23-90ec-4cb0-a03d-ecc6fad12037",
   "metadata": {},
   "outputs": [],
   "source": []
  }
 ],
 "metadata": {
  "kernelspec": {
   "display_name": "Python 3",
   "language": "python",
   "name": "python3"
  },
  "language_info": {
   "codemirror_mode": {
    "name": "ipython",
    "version": 3
   },
   "file_extension": ".py",
   "mimetype": "text/x-python",
   "name": "python",
   "nbconvert_exporter": "python",
   "pygments_lexer": "ipython3",
   "version": "3.8.8"
  }
 },
 "nbformat": 4,
 "nbformat_minor": 5
}
