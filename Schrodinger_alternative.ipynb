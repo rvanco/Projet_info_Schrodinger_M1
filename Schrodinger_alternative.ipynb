{
 "cells": [
  {
   "cell_type": "code",
   "execution_count": 15,
   "id": "c8a8d002-0a0b-4b9e-941f-bfc6cc7f7e95",
   "metadata": {},
   "outputs": [],
   "source": [
    "import numpy as np\n",
    "import scipy.integrate as sp\n",
    "from matplotlib import pyplot as plt\n",
    "from tqdm.notebook import tqdm"
   ]
  },
  {
   "cell_type": "code",
   "execution_count": 130,
   "id": "2cceb7a9-15f1-4983-9032-a1e42b605ce7",
   "metadata": {},
   "outputs": [],
   "source": [
    "#DEFINITION DES POTENTIELS UTILES\n",
    "#Remarque: dans tout le code les potentiels sont donnés en Hartree et les distances en rayon de Bohr\n",
    "def V1(x):\n",
    "    #puit carré de potentiel\n",
    "    a=2 #demi-largeur du puit (valeur typique:2)\n",
    "    V_0 = 5 #Profondeur du puit (valeur typique:5)\n",
    "    return -V_0/2*(1-np.sign(np.abs(x)-a))\n",
    "def V2(x):\n",
    "    #oscillateur harmonique\n",
    "    a=0.3 #convexité du potentiel (valeur typique:2)\n",
    "    V_0 = 5 #Profondeur du potentiel (valeur typique:5)\n",
    "    return V_0*(x*a)**2\n",
    "def V3(x):\n",
    "    #potentiel de Lenard-Jones\n",
    "    x0=10 #abscisse du minimum du potentiel (valeur typique:10)\n",
    "    V_0 = 5 #Profondeur du potentiel (valeur typique:5)\n",
    "    return 4*V_0*((x0*2**(-1/6)/x)**12-(x0*2**(-1/6)/x)**6 )\n",
    "def V4(x):\n",
    "    #potentiel de Morse\n",
    "    a=1 #convexité du potentiel (valeur typique:1)\n",
    "    x0=5 #abscisse du minimum du potentiel (valeur typique:3)\n",
    "    V_0 = 5 #Profondeur du potentiel (valeur typique:5)\n",
    "    return V_0*((1-np.exp(-a*(x-x0)))**2)\n",
    "def V5 (x):\n",
    "    #puit quadratique\n",
    "    a=3 #demi-largeur du puit (valeur typique:2)\n",
    "    V_0 = 5 #Profondeur du puit (valeur typique:5)\n",
    "    return V_0/2*((x/a)**2-1)*(1-np.sign(np.abs(x)-a))\n",
    "def V6(x):\n",
    "    #puit infini de potentiel\n",
    "    a=1 #demi-largeur du puit (valeur typique:1)\n",
    "    V_0 = 500 #Hauteur du potentiel >>1 (valeur typique:1000)\n",
    "    return V_0-V_0/2*(1-np.sign(np.abs(x)-a))\n",
    "\n",
    "#NORMALISATION DES FONCTIONS D'ONDES\n",
    "def normalization(psi, x):\n",
    "    \"\"\"\n",
    "    normalise la fonction en entrée:\n",
    "    x = liste des points en lequels la fonction est évaluée\n",
    "    psi = liste des valeurs de la fonction en chaque point de x : f(x[i])=psi[i]\n",
    "    \"\"\"\n",
    "    norm = sp.simps(abs(psi)**2,x)\n",
    "    return psi/np.sqrt(norm)"
   ]
  },
  {
   "cell_type": "code",
   "execution_count": 131,
   "id": "9e77bac9-6356-4ef9-8840-8517579014f1",
   "metadata": {
    "jupyter": {
     "source_hidden": true
    },
    "tags": []
   },
   "outputs": [],
   "source": [
    "def numerov(psi_range,x_range,V,E,direction):\n",
    "    \"\"\"\n",
    "    This function applies the numerov scheme on a discretized 1D space represented by x_range, in order to produce an approximate solution of the Schödinger\n",
    "    equation with the potential V and the energy E.\n",
    "    \n",
    "    psi_range = array which will contain the psi_i, with the boundary values already initialised\n",
    "    x_range = array containing the values of x\n",
    "    V = function for the potential\n",
    "    E = Energy to be tested\n",
    "    direction -> 1 = increasing x ; -1 = decreasing x\n",
    "    \n",
    "    return : an array containing the approximate solution psi(x) for each x of x_range\"\"\"\n",
    "    \n",
    "    #création de variables utiles\n",
    "    Q = lambda x : 2*(E-V(x))\n",
    "    h = x_range[1]-x_range[0]  \n",
    "    psi_out = psi_range.copy()\n",
    "    \n",
    "    #réalisation de l'intégration de Numerov\n",
    "    if direction == 1 :\n",
    "        for i in range(2,len(psi_range)):\n",
    "            psi_out[i] = (2*(1-5/12*h**2*Q(x_range[i-1]))*psi_out[i-1]-(1+1/12*h**2*Q(x_range[i-2]))*psi_out[i-2])/(1+1/12*h**2*Q(x_range[i]))\n",
    "    if direction == -1 :\n",
    "        for i in range(len(psi_range)-3,-1,-1):\n",
    "            psi_out[i] = (2*(1-5/12*h**2*Q(x_range[i+1]))*psi_out[i+1]-(1+1/12*h**2*Q(x_range[i+2]))*psi_out[i+2])/(1+1/12*h**2*Q(x_range[i]))\n",
    "    \n",
    "    return psi_out"
   ]
  },
  {
   "cell_type": "code",
   "execution_count": 132,
   "id": "d9b7b5ab-e743-4df5-b0c2-c2f8fd95fafd",
   "metadata": {
    "jupyter": {
     "source_hidden": true
    },
    "tags": []
   },
   "outputs": [],
   "source": [
    "def calculus(x_range,E,V):\n",
    "    \"\"\"\n",
    "    Calcule la fonction d'onde avec la méthode midpoint pour une énergie et un potentiels donnés\n",
    "    \"\"\"\n",
    "    N_x_c=int(len(x_range)/2)\n",
    "    psi_range=np.zeros(len(x_range))\n",
    "    psi_range[0] = 0\n",
    "    psi_range[1] = eps\n",
    "    psi_range[-1] = 0\n",
    "    psi_range[-2] = eps\n",
    "    #découpage des ranges au mid-point\n",
    "    x_left = x_range.copy()[0:N_x_c+1]\n",
    "    x_right = x_range.copy()[N_x_c:] \n",
    "    \n",
    "    psi_left = psi_range.copy()[0:N_x_c+1]\n",
    "    psi_right = psi_range.copy()[N_x_c:]\n",
    "    \n",
    "    #réalisation des intégrations de numerov\n",
    "    psi_left = numerov(psi_left,x_left,V,E,1)\n",
    "    psi_right = numerov(psi_right,x_right,V,E,-1)\n",
    "    psi_out = np.concatenate((psi_left[0:-1],psi_right*((psi_left[-1])/(psi_right[0]))))\n",
    "\n",
    "    return psi_out"
   ]
  },
  {
   "cell_type": "code",
   "execution_count": 133,
   "id": "647c6397-7132-4d59-913a-60c56e1480f6",
   "metadata": {
    "jupyter": {
     "source_hidden": true
    },
    "tags": []
   },
   "outputs": [],
   "source": [
    "def recherche_lin(V,x_range,E_min,E_max,dE,eps,sens,affiche):\n",
    "    \"\"\"\n",
    "    Recherche les énergies propres de l'équation de Schrödinder stationnaire à 1D pour un potentiel V donné \n",
    "    par la méthode de minimisation de la divergence des fonctions d'ondes en région asymptotique: \n",
    "    - un crible d'énergie linéaire est créé : la liste des energies commence à E_min et finit à E_max, avec un pas de dE\n",
    "    - pour chaque valeur d'énergie on calcule la fonction d'onde résultante par la méthode numérov (sens=+1 : g/d , sens=-1 : d/g)\n",
    "    - on évalue le log de la derniène valeur de chaque fonction d'onde résultante\n",
    "    - on garde les valeurs d'énergies pour lequels on trouve un minimum local de ces valeurs\n",
    "    Ces énergies sont enfin renvoyées sous formes de liste\n",
    "    \n",
    "    V=potentiel\n",
    "    E_min,E_max = bornes d'energies à tester\n",
    "    dE= pas entre 2 energies testées \n",
    "    eps= valeurs de la dérivée première de psi au premier point (la valeur de psi est arbitrairement prise à 0)\n",
    "    sens= +1(-1) pour calculer les fonctions d'ondes de selon les x croissant(décroissant)\n",
    "    \"\"\"\n",
    "    N_E=int((E_max-E_min)/dE+1) # taille de la liste d'énergie\n",
    "    E_range=np.linspace(E_min,E_max,N_E) #liste des énergies pour lequelles ont calcule la fonction d'onde\n",
    "    I=[]\n",
    "    Y_last=[] #liste des dernières valeurs de chaque fonction d'onde \n",
    "    Z_last=[] #log de Y_last\n",
    "    print(\"RECHERCHE LINEAIRE:\")\n",
    "    for E in tqdm(E_range):\n",
    "        psi_range = np.zeros(len(x_range))\n",
    "        if sens==1:\n",
    "            psi_range[0] = 0\n",
    "            psi_range[1] = eps\n",
    "            out=numerov(psi_range,x_range,V,E,1)\n",
    "            Y_last.append(abs(out[-1]))\n",
    "            Z_last.append(np.log(abs(out[-1])))\n",
    "\n",
    "        if sens ==-1:   \n",
    "            psi_range[-1] = 0\n",
    "            psi_range[-2] = eps\n",
    "            out=numerov(psi_range,x_range,V,E,-1)\n",
    "            Y_last+=[abs(out[0])]\n",
    "            Z_last+=[np.log(abs(out[0]))]\n",
    "            \n",
    "    if affiche==\"y\":\n",
    "        plt.figure()\n",
    "        plt.title(\"divergence de la fonction d'onde en fonction de l'énergie\")\n",
    "        plt.xlabel(\"énergie (Hartree)\")\n",
    "        plt.ylabel(\"log de la divergence de la solution numérov \\n (sans unité)\")\n",
    "        plt.plot(E_range,Z_last) #trace le log de la divergence des fonction d'onde en fonction de l'énergie de celle-ci\n",
    "    E_value=[]\n",
    "    for i in range (1,N_E-1):\n",
    "        if Z_last[i]<Z_last[i+1] and Z_last[i]<Z_last[i-1]:\n",
    "            E_value.append(E_range[i])\n",
    "    return E_value"
   ]
  },
  {
   "cell_type": "code",
   "execution_count": 134,
   "id": "c611709f-5154-432f-a971-91308f6c255e",
   "metadata": {
    "jupyter": {
     "source_hidden": true
    },
    "tags": []
   },
   "outputs": [],
   "source": [
    "def dichotomie(V,x_range,Nb_passage,It_passage,zoom,E_ini,delta_E,eps,sens):\n",
    "    \"\"\"\n",
    "    Augmente la précision d'une valeur propre approximative par dichotomie : \n",
    "    - on créé une liste de It_passage énergies à tester et de pas delta_E et centré autour de E_ini\n",
    "    - on cherche par minimisation de la divergence des fonctions d'ondes l'énergie annulant au mieux la fonction d'onde asymptotiquement\n",
    "    - cette énergie devient le nouveau E_ini, delta_E devient delta_E/zoom et on recommence Nb_passage fois\n",
    "    \n",
    "    \n",
    "    V=potentiel\n",
    "    Nb_passage=nombre de passage effectuées\n",
    "    It_passage=nombre d'iterations effectuées à chaque passage (doit être > 4)\n",
    "    zoom=valeur de l'augmentation de precision entre chaque passage\n",
    "    E_ini=valeur de depart de recherche de l'energie\n",
    "    delta_E= étendue de recherche de l'énergie autour de E_ini\n",
    "    eps= valeurs de la dérivée première de psi au premier point (la valeur de psi est arbitrairement prise à 0)\n",
    "    sens= +1(-1) pour calculer les fonctions d'ondes de selon les x croissant(décroissant)\n",
    "    \"\"\"\n",
    "    psi_zero=np.zeros(len(x_range))\n",
    "    for passage in tqdm(range(0,Nb_passage)): \n",
    "        # boucle de recherche de l'energie optimale par passage dans la gamme d'energie donnée par E_range:\n",
    "        E_range=np.linspace(E_ini-delta_E/2,E_ini+delta_E/2,It_passage) #créé la liste des valeurs de E à être testés\n",
    "        Z_last=[] # contient la dernière valeur de chaque fonction d'onde (en log)\n",
    "\n",
    "        for iteration in range (0,It_passage):\n",
    "            # boucle de calcul de la fonction d'onde correspondant chaque energie dans E_range:\n",
    "            E=E_range[iteration]\n",
    "            psi_range = psi_zero\n",
    "            if sens==1:\n",
    "                psi_range[0] = 0\n",
    "                psi_range[1] = eps\n",
    "                out=numerov(psi_range,x_range,V,E,1)\n",
    "                Z_last.append(np.log(abs(out[-1])))\n",
    "\n",
    "            if sens ==-1:   \n",
    "                psi_range[-1] = 0\n",
    "                psi_range[-2] = eps\n",
    "                out=numerov(psi_range,x_range,V,E,-1)\n",
    "                Z_last+=[np.log(abs(out[0]))]\n",
    "\n",
    "            \n",
    "        # selection de l'energie optimale:\n",
    "        E_ini=E_range[np.argmin(Z_last)]\n",
    "        delta_E/=zoom\n",
    "    return E_ini\n",
    "            \n"
   ]
  },
  {
   "cell_type": "code",
   "execution_count": 135,
   "id": "c96049bb-20d2-47f9-ae42-66c1ad11f821",
   "metadata": {
    "jupyter": {
     "source_hidden": true
    },
    "tags": []
   },
   "outputs": [],
   "source": [
    "def dichotomie_affiche (V,x_range,Nb_passage,It_passage,zoom,E_ini,delta_E,eps,sens):\n",
    "    \"\"\"\n",
    "    Augmente la précision d'une valeur propre approximative par dichotomie : \n",
    "    - on créé une liste de It_passage énergies à tester et de pas delta_E et centré autour de E_ini\n",
    "    - on cherche par minimisation de la divergence des fonctions d'ondes l'énergie annulant au mieux la fonction d'onde asymptotiquement\n",
    "    - cette énergie devient le nouveau E_ini, delta_E devient delta_E/zoom et on recommence Nb_passage fois\n",
    "    \n",
    "    Si la valeur entrée dans affiche_sol vaut \"y\", on affiche le résultat en energie après chaque itération\n",
    "    Si la valeur entrée dans affiche_graph vaut \"y\", on affiche la meilleur fonction d'onde après chaque itération\n",
    "    \n",
    "    \n",
    "    V=potentiel\n",
    "    Nb_passage=nombre de passage effectuées\n",
    "    It_passage=nombre d'iterations effectuées à chaque passage (doit être > 4)\n",
    "    zoom=valeur de l'augmentation de precision entre chaque passage\n",
    "    E_ini=valeur de depart de recherche de l'energie\n",
    "    delta_E= étendue de recherche de l'énergie autour de E_ini\n",
    "    eps= valeurs de la dérivée première de psi au premier point (la valeur de psi est arbitrairement prise à 0)\n",
    "    sens= +1(-1) pour calculer les fonctions d'ondes de selon les x croissant(décroissant)\n",
    "    \"\"\"\n",
    "    affiche_sol=input(\"Afficher les solutions intermédiaires ? (y/n)\")\n",
    "    affiche_graph=input(\"Afficher les graphiques intermédiaires ? (y/n)\")\n",
    "    psi_zero=np.zeros(len(x_range))\n",
    "    if affiche_graph==\"y\":\n",
    "        plt.figure(figsize=(30, 10))\n",
    "    for passage in range(0,Nb_passage): \n",
    "        # boucle de recherche de l'energie optimale par passage dans la gamme d'energie donnée par E_range:\n",
    "        E_range=np.linspace(E_ini-delta_E/2,E_ini+delta_E/2,It_passage) #créé la liste des valeurs de E à être testés\n",
    "        Z_last=[] # contient la dernière valeur de chaque fonction d'onde (en log)\n",
    "\n",
    "        for iteration in range (0,It_passage):\n",
    "            # boucle de calcul de la fonction d'onde correspondant chaque energie dans E_range:\n",
    "            E=E_range[iteration]\n",
    "            psi_range = psi_zero\n",
    "            if sens==1:\n",
    "                psi_range[0] = 0\n",
    "                psi_range[1] = eps\n",
    "                out=numerov(psi_range,x_range,V,E,1)\n",
    "                Z_last.append(np.log(abs(out[-1])))\n",
    "\n",
    "            if sens ==-1:   \n",
    "                psi_range[-1] = 0\n",
    "                psi_range[-2] = eps\n",
    "                out=numerov(psi_range,x_range,V,E,-1)\n",
    "                Z_last+=[np.log(abs(out[0]))]\n",
    "\n",
    "            \n",
    "        # selection de l'energie optimale:\n",
    "        E_ini=E_range[np.argmin(Z_last)]\n",
    "        delta_E/=zoom\n",
    "        if affiche_sol==\"y\":\n",
    "            print(\"Passage\",passage+1,\": \",E_ini,\" Precision: \",delta_E)\n",
    "        if affiche_graph==\"y\":\n",
    "            place=10-Nb_passage+passage\n",
    "            if place>0:\n",
    "               #remise à 0 de la fonction d'onde:\n",
    "                psi_range = psi_zero\n",
    "                psi_range[0] = 0\n",
    "                psi_range[1] = eps\n",
    "                out=calculus(x_range,E_ini,V)\n",
    "                string=str(2)+str(5)+str(place)\n",
    "                plt.subplot(int(string))\n",
    "                plt.plot(x_range,out)\n",
    "                plt.title(\"precision: \"+str(delta_E))\n",
    "    return E_ini\n",
    "            \n"
   ]
  },
  {
   "cell_type": "code",
   "execution_count": 136,
   "id": "1d46612c-9427-4940-adeb-f8bb7758e923",
   "metadata": {
    "jupyter": {
     "source_hidden": true
    },
    "tags": []
   },
   "outputs": [],
   "source": [
    "def recherche(V,E_min,E_max,dE,sens,x_range,Nb_passage,It_passage,zoom,delta_E,eps,affiche):\n",
    "    \"\"\"\n",
    "    Cette fonction permet de trouver les énergies propres de l'équation de Schrödinder stationnaire à 1D pour un potentiel V donné, \n",
    "    puis de calculer et tracer les fonctions d'ondes de chaque énergie.\n",
    "    \n",
    "    Un premier crible linéaire de l'énergie est testé : la fonction \"recherche_lin\" donne une permière liste d'énergies approximatives \n",
    "    pour lequels un minimum local de la divergence des fonctions d'ondes en région asymptotique est trouvé.\n",
    "    Un second crible est effectué pour chaque énergie précedement trouvée : la fonction \"dichotomie_sens\" affine la valeur propre de l'équation de Schrödinder\n",
    "    Enfin, les fonctions d'ondes sont recalculées et normalisées, puis tracées sur un même graphique.\n",
    "    \n",
    "    V=potentiel\n",
    "    E_min=plus petite valeur de l'energie à être testée\n",
    "    E_max=plus grande valeur de l'energie à être testée\n",
    "    dE=pas des energies à tester lors de la recherche linéaire\n",
    "    sens= +1(-1) pour calculer les fonctions d'ondes de selon les x croissant(décroissant)    \n",
    "    x_range= valeurs des x pour lesquels psi va être calculée\n",
    "    Nb_passage=nombre de passage effectuées\n",
    "    It_passage=nombre d'iterations effectuées à chaque passage (doit être > 4)\n",
    "    zoom=valeur de l'augmentation de precision entre chaque passage\n",
    "    delta_E= étendue de recherche de l'énergie autour de E_ini\n",
    "    eps = deuxième valeur de psi (la première est 0)\n",
    "    affiche= y pour afficher le crible linéaire, autre sinon\n",
    "    \"\"\"\n",
    "    E_lin_list=recherche_lin(V,x_range,E_min,E_max,dE,eps,sens,affiche) #recherche approximative des énergies\n",
    "    E_dich_list=[]\n",
    "    psi_zero=np.zeros(len(x_range))\n",
    "    print(\"\\n \\n AUGMENTATION DE LA PRECISION DES ENERGIES:\")\n",
    "    for i in tqdm(range(0,len(E_lin_list))): #augmentation de la précision des énergies\n",
    "        E_ini=E_lin_list[i] #valeur de depart de recherche de l'energie\n",
    "        delta_E=0.1 #étendue de recherche de l'énergie autour de E_ini\n",
    "        x_range = np.linspace(x_m,x_M,int((x_M-x_m)/dx))\n",
    "        print(\" \\n RECHERCHE PAR DICHOTOMIE DE L'ENERGIE \"+str(i+1)+\":\")\n",
    "        E_dich_list.append(dichotomie(V,x_range,Nb_passage,It_passage,zoom,E_ini,delta_E,eps,sens))\n",
    "        print(str(E_lin_list[i]) +\" ===> \"+ str(E_dich_list[i])+\"\\n \\n\")\n",
    "\n",
    "    plt.figure()\n",
    "    plt.title(\"solutions de l'équation de Schodinger en fonction de l'énergie \")\n",
    "    plt.xlabel(\"position (en rayon de Bohr)\")\n",
    "    plt.ylabel(\"valeur des fonctions d'onde (sans unité) \\n shifté par leur valeur propre (en Hartree) \")\n",
    "    for i in range (0,len(E_dich_list)): #tracé des fonctions d'onde\n",
    "        #remise à 0 de la fonction d'onde:\n",
    "        psi_range = psi_zero\n",
    "        psi_range[0] = 0\n",
    "        psi_range[1] = eps\n",
    "        out=calculus(x_range,E_dich_list[i],V)\n",
    "        plt.plot(x_range,E_dich_list[i]+normalization(out,x_range))\n",
    "    #return E_dich_list"
   ]
  },
  {
   "cell_type": "code",
   "execution_count": 137,
   "id": "746e7402-35e0-4a94-af17-9a782d4872fe",
   "metadata": {
    "tags": []
   },
   "outputs": [
    {
     "data": {
      "text/plain": [
       "(-5.0, 5.0)"
      ]
     },
     "execution_count": 137,
     "metadata": {},
     "output_type": "execute_result"
    },
    {
     "data": {
      "image/png": "[encoded data removed]",
      "text/plain": [
       "<Figure size 432x288 with 1 Axes>"
      ]
     },
     "metadata": {
      "needs_background": "light"
     },
     "output_type": "display_data"
    }
   ],
   "source": [
    "#CONTIENT LA PLAGE DES VALEURS DE X UTILES ET LE POTENTIEL. TRACE LE POTENTIEL.\n",
    "V=V5               #potentiel utilisé\n",
    "x_m=-5             #valeur minimale des abscisses         (valeur typique:dépend du potentiel)\n",
    "x_M=5              #valeur maximale des abscisses         (valeur typique:dépend du potentiel)\n",
    "dx=10**(-2)        #pas de la discrétisation de l'espace  (valeur typique:0.01)\n",
    "x_range = np.linspace(x_m,x_M,int((x_M-x_m)/dx))\n",
    "plt.figure()\n",
    "plt.title(\"Potentiel\")\n",
    "plt.xlabel(\"position (en rayon de Bohr)\")\n",
    "plt.ylabel(\"Valeur du potentiel (en Hartree) \")\n",
    "plt.plot(x_range,V(x_range))\n",
    "plt.ylim(-5,5) #intervalle de l'ordonnée à afficher"
   ]
  },
  {
   "cell_type": "code",
   "execution_count": 138,
   "id": "fb995f41-b491-477d-be37-9a9814665957",
   "metadata": {
    "tags": []
   },
   "outputs": [
    {
     "name": "stdout",
     "output_type": "stream",
     "text": [
      "RECHERCHE LINEAIRE:\n"
     ]
    },
    {
     "data": {
      "application/vnd.jupyter.widget-view+json": {
       "model_id": "1c05a73e7e6c4dcca717beb9279b045b",
       "version_major": 2,
       "version_minor": 0
      },
      "text/plain": [
       "  0%|          | 0/251 [00:00<?, ?it/s]"
      ]
     },
     "metadata": {},
     "output_type": "display_data"
    },
    {
     "name": "stdout",
     "output_type": "stream",
     "text": [
      "\n",
      " \n",
      " AUGMENTATION DE LA PRECISION DES ENERGIES:\n"
     ]
    },
    {
     "data": {
      "application/vnd.jupyter.widget-view+json": {
       "model_id": "d26290900c624aab94ec499e4f7af1b9",
       "version_major": 2,
       "version_minor": 0
      },
      "text/plain": [
       "  0%|          | 0/5 [00:00<?, ?it/s]"
      ]
     },
     "metadata": {},
     "output_type": "display_data"
    },
    {
     "name": "stdout",
     "output_type": "stream",
     "text": [
      " \n",
      " RECHERCHE PAR DICHOTOMIE DE L'ENERGIE 1:\n"
     ]
    },
    {
     "data": {
      "application/vnd.jupyter.widget-view+json": {
       "model_id": "b654f51aec4449eca580912f242d3772",
       "version_major": 2,
       "version_minor": 0
      },
      "text/plain": [
       "  0%|          | 0/5 [00:00<?, ?it/s]"
      ]
     },
     "metadata": {},
     "output_type": "display_data"
    },
    {
     "name": "stdout",
     "output_type": "stream",
     "text": [
      "-4.48 ===> -4.4729616666666665\n",
      " \n",
      "\n",
      " \n",
      " RECHERCHE PAR DICHOTOMIE DE L'ENERGIE 2:\n"
     ]
    },
    {
     "data": {
      "application/vnd.jupyter.widget-view+json": {
       "model_id": "1b2c773ba68c40ef87e51ecb7e53c009",
       "version_major": 2,
       "version_minor": 0
      },
      "text/plain": [
       "  0%|          | 0/5 [00:00<?, ?it/s]"
      ]
     },
     "metadata": {},
     "output_type": "display_data"
    },
    {
     "name": "stdout",
     "output_type": "stream",
     "text": [
      "-3.42 ===> -3.419047222222222\n",
      " \n",
      "\n",
      " \n",
      " RECHERCHE PAR DICHOTOMIE DE L'ENERGIE 3:\n"
     ]
    },
    {
     "data": {
      "application/vnd.jupyter.widget-view+json": {
       "model_id": "d029a985f2c0464fb757b55b583de45b",
       "version_major": 2,
       "version_minor": 0
      },
      "text/plain": [
       "  0%|          | 0/5 [00:00<?, ?it/s]"
      ]
     },
     "metadata": {},
     "output_type": "display_data"
    },
    {
     "name": "stdout",
     "output_type": "stream",
     "text": [
      "-2.36 ===> -2.366912777777778\n",
      " \n",
      "\n",
      " \n",
      " RECHERCHE PAR DICHOTOMIE DE L'ENERGIE 4:\n"
     ]
    },
    {
     "data": {
      "application/vnd.jupyter.widget-view+json": {
       "model_id": "b983e85f40f0427f92ad8aa669a616e1",
       "version_major": 2,
       "version_minor": 0
      },
      "text/plain": [
       "  0%|          | 0/5 [00:00<?, ?it/s]"
      ]
     },
     "metadata": {},
     "output_type": "display_data"
    },
    {
     "name": "stdout",
     "output_type": "stream",
     "text": [
      "-1.3199999999999998 ===> -1.3269338888888886\n",
      " \n",
      "\n",
      " \n",
      " RECHERCHE PAR DICHOTOMIE DE L'ENERGIE 5:\n"
     ]
    },
    {
     "data": {
      "application/vnd.jupyter.widget-view+json": {
       "model_id": "8510e32c4390491dbde063a0a7826f00",
       "version_major": 2,
       "version_minor": 0
      },
      "text/plain": [
       "  0%|          | 0/5 [00:00<?, ?it/s]"
      ]
     },
     "metadata": {},
     "output_type": "display_data"
    },
    {
     "name": "stdout",
     "output_type": "stream",
     "text": [
      "-0.3600000000000003 ===> -0.35146944444444483\n",
      " \n",
      "\n"
     ]
    },
    {
     "data": {
      "image/png": "[encoded data removed]",
      "text/plain": [
       "<Figure size 432x288 with 1 Axes>"
      ]
     },
     "metadata": {
      "needs_background": "light"
     },
     "output_type": "display_data"
    },
    {
     "data": {
      "image/png": "[encoded data removed]",
      "text/plain": [
       "<Figure size 432x288 with 1 Axes>"
      ]
     },
     "metadata": {
      "needs_background": "light"
     },
     "output_type": "display_data"
    }
   ],
   "source": [
    "#CONTIENT LA VALEUR DE LA PREMIERE DERIVEE, LA PLAGE D'ENERGIE A TESTER, LE PAS D'ENERGIE POUR LA RECHERCHE LINEAIRE ET LES PARAMETRES DE LA DICHOTOMIE\n",
    "eps=10**(-5)    #valeur de la première dérivée en x_m                                       (valeur typique:10**(-5))\n",
    "E_min=-5        # minimum de la plage de valeurs attendue de l'énergie                      (valeur typique:dépend du potentiel)\n",
    "E_max=0         # maximum de la plage de valeurs attendue de l'énergie                      (valeur typique:dépend du potentiel)\n",
    "dE=0.02         # pas de l'énergie qui sera testé lors du premier crible linéaire d'énergie (valeur typique:0.02)\n",
    "sens=-1         # +1= condition initiale posée en x_m;  -1= condition initiale posée en x_M\n",
    "Nb_passage=5    #nombre de passage de la dichotomie effectués                                (valeur typique:10)\n",
    "It_passage=10   #nombre d'iterations effectuées à chaque passage de la dichotomie            (valeur typique:20)\n",
    "zoom=10         # valeur de l'augmentation de precision entre chaque passage de la dichotomie (valeur typique:10)\n",
    "delta_E=0.1     #étendue de recherche de l'énergie autour de E_ini lors de la dichotomie     (valeur typique:0.1)\n",
    "affiche=\"y\"     # y= affiche le résultat de la recherche linéaire, autre sinon\n",
    "recherche(V,E_min,E_max,dE,sens,x_range,Nb_passage,It_passage,zoom,delta_E,eps*dx,affiche)"
   ]
  },
  {
   "cell_type": "code",
   "execution_count": null,
   "id": "18acea86-627b-4290-ab28-40f6c67f320a",
   "metadata": {},
   "outputs": [],
   "source": []
  }
 ],
 "metadata": {
  "kernelspec": {
   "display_name": "Python 3 (ipykernel)",
   "language": "python",
   "name": "python3"
  },
  "language_info": {
   "codemirror_mode": {
    "name": "ipython",
    "version": 3
   },
   "file_extension": ".py",
   "mimetype": "text/x-python",
   "name": "python",
   "nbconvert_exporter": "python",
   "pygments_lexer": "ipython3",
   "version": "3.9.7"
  }
 },
 "nbformat": 4,
 "nbformat_minor": 5
}
